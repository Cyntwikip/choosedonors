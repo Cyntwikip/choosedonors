{
 "cells": [
  {
   "cell_type": "markdown",
   "metadata": {
    "_uuid": "5f036d744a760a697c19b30e2e9cc73d85140577"
   },
   "source": [
    "## Hi there!\n",
    "If this is any way helpful to you, please upvote. Thanks for dropping by!"
   ]
  },
  {
   "cell_type": "markdown",
   "metadata": {
    "_cell_guid": "b1076dfc-b9ad-4769-8c92-a6c4dae69d19",
    "_uuid": "8f2839f25d086af736a60e9eeb907d3b93b6e0e5",
    "collapsed": true
   },
   "source": [
    "![donorschoose.org logo](https://cdn.donorschoose.net/images/logo/dc-logo-tagline.png)\n",
    "\n",
    "# Executive Summary:\n",
    "\n",
    "This notebook contains an exploration of DonorsChoose.org data and the development of a simple recommendation system for  first time donors. Using KMeans clustering to identify latent groupings or profiles of projects, new projects are classified into one of the identified project profiles. A web-based API running the classifier will output lists of Donor IDs segmented by location (using `Donor State` as proxy variable), by organization loyalty (using `Donation Included Optional Donation` as proxy variable), and by donation timing (using difference between `Donation Received Date` and `Project Posted Date` as derived proxy variable). These segmentation based on location, organization loyalty, and donation timing were based on related literature outlining the relevance of preference based on proximity and personal background<sup> [1] </sup> , support to the crowdfunding host as an indicator of donor retention or long term repeat donations<sup> [2] </sup>, and donation timing affecting when donors actually donate<sup> [3] </sup>. Following the methodology illustrated on the flowchart below, a working recommender system was developed with four identified latent profiles of projects with corresponding clusters of potential repeat Donors.\n",
    "\n",
    "![Methodology](https://tjalba.files.wordpress.com/2018/06/screen-shot-2018-06-19-at-2-02-11-pm.png?w=900)\n",
    "\n",
    "![Recommender API](https://tjalba.files.wordpress.com/2018/06/screen-shot-2018-06-21-at-12-06-09-am.png?w=720)\n",
    "\n",
    "**References: **  \n",
    "<sup> [1] </sup> Breeze, B. (2013) How donors choose charities: the role of personal taste and experiences in giving decisions. *Voluntary Sector Review*, *Vol. 4*, (2), pp. 165-183  \n",
    "<sup> [2] </sup> Althoff, T and Leskovec, J (2015) Donor Retention in Online Crowdfunding Communities: A Case Study of Donorschoose.org. *ACM*  \n",
    "<sup> [3] </sup> Salomon, J, et.al (2015) Don’t Wait! How Timing Affects Coordination of Crowdfunding Donations. *ACM*\n",
    "\n",
    "# Outline: \n",
    "1. [About Donorschoose.org](##About Donorschoose.org)\n",
    "2. [Loading the Libraries](##Loading the Libraries)\n",
    "3. [About the Data](##About the Data)\n",
    "4. [Questions we would like to ask](##Questions we would like to ask)\n",
    "5. [Exploring the Data](##Exploring the Data)  \n",
    "5.1. [Teachers Dataset](##Teachers Dataset)  \n",
    "    5.1.1. [Teacher Dataset preprocessing](####Teacher Dataset preprocessing)  \n",
    "    5.1.2. [Teacher ID duplication check](####Teacher ID duplication check)  \n",
    "    5.1.3. [Teacher Prefix distribution](#### Teacher Prefix distribution)    \n",
    "    5.1.4. [Teacher project creation trend over time](#### Teacher project creation trend over time)  \n",
    "    5.1.4.1. [Most popular days of the week for Teacher project creation](####Most popular days of the week for Teacher project creation)  \n",
    "    5.1.4.2. [Most popular months of the year for Teacher project creation](####Most popular months of the year for Teacher project creation)  \n",
    "    5.1.4.3. [Teacher project creation change over time](####Teacher project creation change over time)  \n",
    "    5.1.4.4. [Teacher project creation change over time by Teacher Prefix](#### Teacher project creation change over time by Teacher Prefix)  \n",
    "    5.1.4.5. [Teacher project creation change over time by Teacher Gender](#### Teacher project creation change over time by Teacher Gender)  \n",
    "    5.1.4.6. [Teacher project creation change over time in 2018 by Teacher Prefix](#### Teacher project creation change over time in 2018 by Teacher Prefix)  \n",
    "    \n",
    "    5.2. [Schools Dataset](##Schools Dataset)  \n",
    "    5.2.1. [Schools Metro Type distribution](####Schools Metro Type distribution)  \n",
    "    5.2.2. [Schools Percentage Free Lunch distribution](#### Schools Percentage Free Lunch distribution)  \n",
    "    5.2.3. [Schools State distribution](#### Schools State distribution)  \n",
    "    \n",
    "    5.3. [Donors Dataset](## Donors Dataset)  \n",
    "    5.3.1. [Donor-Teacher distribution](## Donor-Teacher distribution)  \n",
    "    5.3.2. [Donors State distribution](#### Donors State distribution)  \n",
    "    5.3.3. [Donors City distribution](#### Donors City distribution)  \n",
    "    5.3.4. [Donation Time per Location of Donor](#### Donation Time per Location of Donor)\n",
    "  \n",
    "    5.4. [Donations Dataset](## Donations Dataset)  \n",
    "    5.4.1. [Donations Amount distribution](#### Donations Amount distribution)  \n",
    "    5.4.2. [Donations Included Optional Donation distribution](#### Donations Included Optional Donation distribution)  \n",
    "    5.4.3. [Donations received trend over time in 2018](#### Donations received trend over time in 2018)  \n",
    "    \n",
    "    5.5. [Resources Dataset](## Resources Dataset)  \n",
    "    5.5.1. [Resources Unit Price distribution](#### Resources Unit Price distribution)  \n",
    "    5.5.2. [Resource Unit Price vs Resource Quantity](#### Resource Unit Price vs Resource Quantity)  \n",
    "    \n",
    "    5.6. [Projects Dataset](## Projects Dataset)  \n",
    "    5.6.1. [Projects Dataset preprocessing](#### Projects Dataset preprocessing)  \n",
    "    5.6.2. [Unique Projects by Teacher ID](#### Unique Projects by Teacher ID)  \n",
    "    5.6.3. [Projects Type distribution](#### Projects Type distribution)  \n",
    "    5.6.4. [Projects Subject Category Tree distribution](#### Projects Subject Category Tree distribution)  \n",
    "    5.6.5. [Projects Grade Level Category distribution](#### Projects Grade Level Category distribution)  \n",
    "    5.6.6. [Projects Resource Category distribution](#### Projects Resource Category distribution)  \n",
    "    5.6.7. [Projects Current Status distribution](#### [Projects Current Status distribution])  \n",
    "    5.6.8. [Projects Costs distribution](#### Projects Costs distribution)  \n",
    "    5.6.9. [Number of days before project gets fully funded](#### Number of days before project gets fully funded)    \n",
    "6.  [Merging the Datasets](##Merge Dataset)  \n",
    "6.1. [Data Wrangling](## Data Wrangling)  \n",
    "6.1.1. [Sampling 10000 rows](#### Sampling 10000 rows)  \n",
    "6.1.2. [Identifying useful and not so useful features](#### Identifying useful and not so useful features)  \n",
    "6.1.3. [Dropping not so useful features](#### Dropping not so useful features)  \n",
    "6.1.4. [Dropping null values](#### Dropping null values)  \n",
    "6.1.5. [Encoding Labels for Categorical Variables](#### Encoding Labels for Categorical Variables)  \n",
    "6.1.6. [Encoding Datetime Features](#### Encoding Datetime Features)  \n",
    "\n",
    "7. [Building the Recommendation System](# Building the Recommendation System)  \n",
    "7.1. [Identifying Item Profiles](## Identifying Item Profiles (Projects)  \n",
    "    7.1.1. [Creating the feature vector for previous projects for KMeans Clustering](#### Creating the feature vector for previous projects for KMeans Clustering)  \n",
    "    7.1.2. [Initial KMeans Clustering with number of neighbors set to 5](#### Initial KMeans Clustering with number of neighbors set to 5)  \n",
    "    7.1.3. [Finding the optimal number of clusters](#### Finding the optimal number of clusters)  \n",
    "    7.1.4. [Plotting the first two components of the clusters](#### Plotting the first two components of the clusters)    \n",
    "    7.1.5. [Storing Donor IDs per Cluster](#### Storing Donor IDs per Cluster)  \n",
    "    7.1.6. [Labeling donors based on project clusters](#### Labeling donors based on project clusters)  \n",
    "    7.1.7. [Visualizing the Clusters](#### Visualizing the Clusters)    \n",
    "    \n",
    "    7.2. [Classifying New Unobserved Items (New Projects)](## Classifying New Unobserved Items (New Projects)     \n",
    "    7.3. [Filtering User Profiles](## Filtering User Profiles)    \n",
    "    7.4. [Storing Donor ID and other Donor information in dictionaries, by clusters](## Storing Donor ID and other Donor information in dictionaries, by clusters)\n",
    "8. [Demonstration](# Demonstration)\n",
    "9. [Sample Web App](# Sample Web App)  \n",
    "9. [Summary](# Summary)\n",
    "10. [References](# References)  \n",
    "11. [Collaborators](# Collaborators)  \n",
    "12. [Acknowledgements](# Acknowledgements)\n",
    "\n",
    "\n",
    "\n",
    "\n",
    "\n",
    "\n",
    "\n",
    "\n",
    "\n",
    "\n",
    "    \n",
    "    \n",
    "   \n",
    "   \n",
    " \n",
    "   \n",
    "  \n",
    "    "
   ]
  },
  {
   "cell_type": "markdown",
   "metadata": {
    "_uuid": "221a3697bc513e374ff5bdb80b7e97610e50e454"
   },
   "source": [
    "# Key Insights from Data:\n",
    "\n",
    "Projects\n",
    "- The number of projects posted the first time is rapidly growing since 2002 with peak at around 80,000 projects per year in 2016.\n",
    "- The prices of requested items are cheap, most of them are less than 20 dollars with a few outliers costing up to almost 100,000 dollars\n",
    "- Cheaper items come in bigger quantities for resources item requested\n",
    "- Majority of projects are teacher-led.\n",
    "- Top projects are those that deal with literacy and language.\n",
    "- Top grade level category for projects is Grades Pre-K-2.\n",
    "- Top projects requested either books, supplies or technology. \n",
    "- Most projects are already fully funded. \n",
    "- The average cost of a project is around 741 dollars pulled up by a few high value projects with the largest costing 255,737 dollars. 75% of the projects costs less than 868 dollars.\n",
    "- On average, it only takes about a month (~32.07 days) for a project to get fully funded. 75% of projects get funded within 50 days.\n",
    "\n",
    "Teachers\n",
    "- Most Teachers that create projects have prefixes `Mrs.` or `Ms.` \n",
    "- We can infer from above that most Teachers that create projectes are females\n",
    "- Sunday is the most popular day for Teachers to post their project the first time (73,410 projects posted)\n",
    "- September is the most popular month for Teachers to post their project the first time (59,495 projects posted)\n",
    "\n",
    "Schools\n",
    "- Most beneficiary schools come from `suburban` or `urban` communities\n",
    "- It's safe to say that most schools that benefit from the projects give out free lunches with median percentage of 61% of student population are given free lunches\n",
    "- California is home to the most number of beneficiary schools; while Wyoming comprises the least.\n",
    "\n",
    "Donors\n",
    "- There are a handful donors that are teachers, but most aren't.\n",
    "- California is home to the most number of donors; while Wyoming comprises the least.\n",
    "- Chicago is the city that is home to most number of donors, followed by eastern city of New York, and western cities of California such as San Francisco and Los Angeles. \n",
    "- Swarm plots of donations over time show that donors from the same city tend to donate in bursts within a short time period.\n",
    "- Most donations come in less than 20 dollars, with a very few big individual ones at  400 or 500 dollars.\n",
    "- Most donations come with optional donation to donorschoose.org\n",
    "- On January 26, 2018, there was an observed peak for donations received this year\n"
   ]
  },
  {
   "cell_type": "markdown",
   "metadata": {
    "_uuid": "7e433788a50f132138e800db12627120210e216c"
   },
   "source": [
    "## About DonorsChoose.org\n",
    "Donorschoose.org is an online charity platform dedicated to supporting K-12 public education in the U.S. Briefly, it is a crowdfunding site where teachers can post or create project requests and where donors can donate and help raise funds to fulfill the teachers' educational causes. Since its founding in 2000, the platform has raised over $685 million for 1.1 million projects from over 3 million people and partners. Moreover, teachers from almost 75% of all public schools in the U.S. have sought the help of DonorsChoose.org in raising funds for their projects, making the platform the premier website for supporting education. \n",
    "\n",
    "Currently, teachers still spend over a billion dollars out of pocket for their students' needs. In order for students to get what they need to learn, DonorsChoose.org must be able to encourage its roster of first time donors to donate again to projects that inspire them most."
   ]
  },
  {
   "cell_type": "markdown",
   "metadata": {
    "_uuid": "9909f412ace93c426e4fb2afa9bd3d6772eade2a"
   },
   "source": [
    "## Loading the Libraries"
   ]
  },
  {
   "cell_type": "code",
   "execution_count": 1,
   "metadata": {
    "_cell_guid": "79c7e3d0-c299-4dcb-8224-4455121ee9b0",
    "_uuid": "d629ff2d2480ee46fbb7e2d37f6b5fab8052498a",
    "collapsed": true
   },
   "outputs": [],
   "source": [
    "import os\n",
    "import pandas as pd\n",
    "import numpy as np\n",
    "import matplotlib.pyplot as plt\n",
    "%matplotlib inline\n",
    "plt.style.use('fivethirtyeight')\n",
    "from collections import OrderedDict\n",
    "from sklearn.preprocessing import LabelEncoder\n",
    "import seaborn as sns\n",
    "color = sns.color_palette()\n",
    "from numpy import array\n",
    "from matplotlib import cm\n",
    "from scipy.misc import imread\n",
    "import base64\n",
    "from sklearn import preprocessing\n",
    "from mpl_toolkits.basemap import Basemap\n",
    "from wordcloud import WordCloud, STOPWORDS\n",
    "import plotly.plotly as py1\n",
    "import plotly.offline as py\n",
    "py.init_notebook_mode(connected=True)\n",
    "from plotly.offline import init_notebook_mode, iplot\n",
    "init_notebook_mode(connected=True)\n",
    "import plotly.graph_objs as go\n",
    "import plotly.offline as offline\n",
    "offline.init_notebook_mode()\n",
    "from plotly import tools\n",
    "\n",
    "\n",
    "import warnings\n",
    "warnings.filterwarnings(\"ignore\")\n",
    "pd.set_option('display.max_columns', None)\n",
    "pd.set_option('display.max_rows', None)"
   ]
  },
  {
   "cell_type": "code",
   "execution_count": 2,
   "metadata": {
    "_uuid": "27675496656c6a21624d0bbdd8b7c6c4d67a0453",
    "collapsed": true,
    "scrolled": true
   },
   "outputs": [],
   "source": [
    "df_donations = pd.read_csv('../input/io/Donations.csv')\n",
    "df_donors = pd.read_csv('../input/io/Donors.csv')\n",
    "df_resources = pd.read_csv('../input/io/Resources.csv')\n",
    "df_schools = pd.read_csv('../input/io/Schools.csv')\n",
    "df_teachers = pd.read_csv('../input/io/Teachers.csv')\n",
    "df_projects = pd.read_csv('../input/io/Projects.csv')"
   ]
  },
  {
   "cell_type": "markdown",
   "metadata": {
    "_uuid": "56ec523378658d2de0a12abcbc6c6a3b096c74c6"
   },
   "source": [
    "## About the Data\n",
    "The donorschoose.org data contains six separate datasets with the following number of datapoints and features. "
   ]
  },
  {
   "cell_type": "code",
   "execution_count": 3,
   "metadata": {
    "_kg_hide-input": true,
    "_uuid": "447e3dc198d4ba726c681222c7ab27fbc7a39219",
    "collapsed": true,
    "scrolled": true
   },
   "outputs": [],
   "source": [
    "pd.DataFrame({'Dataset':['Donations','Donors','Resources','Schools','Teachers', 'Projects'],\n",
    "             'Datapoints':[df_donations.shape[0], df_donors.shape[0],df_resources.shape[0],\n",
    "                     df_schools.shape[0], df_teachers.shape[0], df_projects.shape[0]],\n",
    "             'Features':[df_donations.shape[1], df_donors.shape[1],df_resources.shape[1],\n",
    "                     df_schools.shape[1], df_teachers.shape[1], df_projects.shape[1]]})"
   ]
  },
  {
   "cell_type": "code",
   "execution_count": 4,
   "metadata": {
    "_uuid": "e048eca68c9e9fb5ad4e27db1ec2d0410005a22f",
    "collapsed": true
   },
   "outputs": [],
   "source": [
    "df_donations.head(3)"
   ]
  },
  {
   "cell_type": "code",
   "execution_count": 5,
   "metadata": {
    "_uuid": "88dbdc2277ce706e8c9130dbfc3cd90fa9981211",
    "collapsed": true
   },
   "outputs": [],
   "source": [
    "df_donors.head(3)"
   ]
  },
  {
   "cell_type": "code",
   "execution_count": 6,
   "metadata": {
    "_uuid": "5eb1f94ddfc812298f843a14009b591e429419b8",
    "collapsed": true
   },
   "outputs": [],
   "source": [
    "df_resources.head(3)"
   ]
  },
  {
   "cell_type": "code",
   "execution_count": 7,
   "metadata": {
    "_uuid": "6439d2f289131852824a5b41ccb06128283efd8e",
    "collapsed": true
   },
   "outputs": [],
   "source": [
    "df_schools.head(3)"
   ]
  },
  {
   "cell_type": "code",
   "execution_count": 8,
   "metadata": {
    "_uuid": "53fa7979061f6e9fce92f3a2380b76e1d0c87b2e",
    "collapsed": true
   },
   "outputs": [],
   "source": [
    "df_teachers.head(3)"
   ]
  },
  {
   "cell_type": "code",
   "execution_count": 9,
   "metadata": {
    "_uuid": "dc579b2e78d24d651ce0943dec6031646ecc801b",
    "collapsed": true
   },
   "outputs": [],
   "source": [
    "df_projects.head(3)"
   ]
  },
  {
   "cell_type": "markdown",
   "metadata": {
    "_uuid": "3a3efbecfd151a00df1eddd966a67be37a194477"
   },
   "source": [
    "## Questions we would like to ask\n",
    "With the objective to create a robust recommendation system to effectively target previous first time donors with new projects, some questions we would like to ask the data are:\n",
    "1. **On Donor Preferences/Behavior:** Which projects are being funded most by which donors?\n",
    "2. **On Donation Timing:** Does the timing i.e. project creation date or  deadline affect donation dynamics and donor coordination? \n",
    "3. **On Recommendation System:** By which features or proxy attributes the donors and projects be clustered to?"
   ]
  },
  {
   "cell_type": "markdown",
   "metadata": {
    "_uuid": "8bc75be6ee2f6eaaa3015af8fee999cf355719d2"
   },
   "source": [
    "## Exploring the Dataset"
   ]
  },
  {
   "cell_type": "markdown",
   "metadata": {
    "_uuid": "89ffbf42f306460234bf310b4cc6c26ab1af399f"
   },
   "source": [
    "## Teachers Dataset"
   ]
  },
  {
   "cell_type": "markdown",
   "metadata": {
    "_uuid": "533c2684fb3619c15824c79af1b7ae48ae66ebbc"
   },
   "source": [
    "#### Teacher Dataset preprocessing\n",
    "We change `Teacher First Project Posted Date` to datetime format in order to explore time series trends over it."
   ]
  },
  {
   "cell_type": "code",
   "execution_count": 10,
   "metadata": {
    "_uuid": "a1b314be14139a296d69b584909af6b620e7c974",
    "collapsed": true
   },
   "outputs": [],
   "source": [
    "df_teachers['Teacher First Project Posted Date'] = pd.to_datetime(\n",
    "    df_teachers['Teacher First Project Posted Date'], errors='coerce')\n",
    "\n",
    "df_teachers.dtypes"
   ]
  },
  {
   "cell_type": "markdown",
   "metadata": {
    "_uuid": "17fce417590fea0aa129b3a69eee8f3104f15e92"
   },
   "source": [
    "#### Teacher ID duplication check\n",
    "We check if there are any `Teacher ID` duplicates. "
   ]
  },
  {
   "cell_type": "code",
   "execution_count": 11,
   "metadata": {
    "_uuid": "9e4e0bf0f53c4de95b033815061fcc56a473c0b3",
    "collapsed": true
   },
   "outputs": [],
   "source": [
    "((df_teachers['Teacher ID'].value_counts().values)>1).any()"
   ]
  },
  {
   "cell_type": "markdown",
   "metadata": {
    "_uuid": "c7962e91f48880564ea60a563f87b5e2f2b62a80"
   },
   "source": [
    "#### Teacher Prefix distribution\n",
    "We check how teachers are distributed according to their designation/prefix i.e. Mrs., Ms., Mr., Dr., or Mx. We see here that Mrs. and Ms. dominate largely the distribution. "
   ]
  },
  {
   "cell_type": "code",
   "execution_count": 12,
   "metadata": {
    "_kg_hide-input": true,
    "_uuid": "e1cefc5e25219bdf00a23f7dd969c68fa0f10879",
    "collapsed": true,
    "scrolled": false
   },
   "outputs": [],
   "source": [
    "plt.figure(figsize=(6,6))\n",
    "plt.bar(df_teachers['Teacher Prefix'].value_counts().index, \n",
    "       df_teachers['Teacher Prefix'].value_counts(),\n",
    "       color=sns.color_palette('viridis'))\n",
    "plt.xlabel('Teacher Prefix')\n",
    "plt.ylabel('Counts')\n",
    "plt.title('Teacher Prefix Distribution')\n",
    "plt.tight_layout()"
   ]
  },
  {
   "cell_type": "markdown",
   "metadata": {
    "_uuid": "5ff0bc8d59f0d22a1b43ec4c1408690a5fdc486f"
   },
   "source": [
    "#### Teacher project creation trend over time\n",
    "We check how the trend of teacher project creation are changing since 2002 and specifically in 2018"
   ]
  },
  {
   "cell_type": "code",
   "execution_count": 13,
   "metadata": {
    "_kg_hide-input": false,
    "_uuid": "df497e121b279851d60aeaff757f30e8d705d53f",
    "collapsed": true
   },
   "outputs": [],
   "source": [
    "df_teachers['weekdays'] = df_teachers['Teacher First Project Posted Date'\n",
    "                                     ].dt.dayofweek\n",
    "\n",
    "df_teachers['month'] = df_teachers['Teacher First Project Posted Date'].dt.month\n",
    "\n",
    "df_teachers['year'] = df_teachers['Teacher First Project Posted Date'].dt.year\n",
    "\n",
    "weekdays = {0:'Monday',1:'Tuesday',2:'Wednesday',3:'Thursday',\n",
    "            4:'Friday',5:'Saturday',6:'Sunday'}\n",
    "\n",
    "months= {1 :\"Jan\",2 :\"Feb\",3 :\"Mar\",4 :\"Apr\",5 : \"May\",6 : \"Jun\",\n",
    "          7 : \"Jul\",8 :\"Aug\", 9 :\"Sep\",10 :\"Oct\",11 :\"Nov\",12 :\"Dec\"}\n",
    "\n",
    "df_teachers['weekdays']=df_teachers['weekdays'].map(weekdays)\n",
    "df_teachers['month']=df_teachers['month'].map(months)\n",
    "\n",
    "df_teachers.head(3)"
   ]
  },
  {
   "cell_type": "markdown",
   "metadata": {
    "_uuid": "1b108dfceb2d11b46538106775b319dd0a95f29b"
   },
   "source": [
    "#### Most popular days of the week for Teacher project creation\n",
    "We check in which days of the week are the teachers posting their first project the most. It appears that weekends appear to be the most favored days in creating projects: Sunday, Saturday, Monday and Friday. This seems reasonable given that Teachers would most likely have the most free time on these days of the week."
   ]
  },
  {
   "cell_type": "code",
   "execution_count": 14,
   "metadata": {
    "_kg_hide-input": true,
    "_uuid": "83a99bcd4eb9f32c39de83cfe4d7040786423057",
    "collapsed": true
   },
   "outputs": [],
   "source": [
    "plt.figure(figsize=(10,6))\n",
    "\n",
    "plt.bar(df_teachers['weekdays'].value_counts().index, \n",
    "        df_teachers['weekdays'].value_counts(),\n",
    "        color=sns.color_palette('viridis'))\n",
    "plt.xlabel('Days of the Week')\n",
    "plt.ylabel('Counts')\n",
    "plt.title('Most Popular Days for Teacher Project Creation')\n",
    "plt.tight_layout()"
   ]
  },
  {
   "cell_type": "code",
   "execution_count": 15,
   "metadata": {
    "_kg_hide-input": true,
    "_uuid": "8833a4501d7e6873fc79e1c7dc7f19eff2a233ed",
    "collapsed": true
   },
   "outputs": [],
   "source": [
    "pd.DataFrame(df_teachers['weekdays'].value_counts())"
   ]
  },
  {
   "cell_type": "markdown",
   "metadata": {
    "_uuid": "52f6a680e94f7ecfbca06b270095e2499c67159d"
   },
   "source": [
    "**Observation: **Top days of the week teachers posting their first project:\n",
    "- Sunday: 73,410\n",
    "- Saturday: 66,105\n",
    "- Monday: 60,933"
   ]
  },
  {
   "cell_type": "markdown",
   "metadata": {
    "_uuid": "a975d3c000eaf2aa54c172bbf6885eef2831dd95"
   },
   "source": [
    "#### Most popular months of the year for Teacher project creation)  \n",
    "We check in which months of the year are the teachers posting their first project the most. We see here that there is particularly a spike in project creation at the start of the academic year: August,  September, and October. Perhaps, it is possible that the teachers assess the needs of their students at the start of class and make projects as they deem necessary. Moreover, we also observe that there is a steady trend on the latter half of the academic year."
   ]
  },
  {
   "cell_type": "code",
   "execution_count": 16,
   "metadata": {
    "_kg_hide-input": true,
    "_uuid": "e30e349d94c23207e73d72301ff696ad3b5587c4",
    "collapsed": true
   },
   "outputs": [],
   "source": [
    "plt.figure(figsize=(10,6))\n",
    "plt.bar(df_teachers['month'].value_counts().index, \n",
    "        df_teachers['month'].value_counts(),\n",
    "        color=sns.color_palette('plasma'))\n",
    "plt.xlabel('Months')\n",
    "plt.ylabel('Counts')\n",
    "plt.title('Most Popular Months for Teacher Project Creation')\n",
    "plt.tight_layout()"
   ]
  },
  {
   "cell_type": "code",
   "execution_count": 17,
   "metadata": {
    "_kg_hide-input": true,
    "_uuid": "922de57f909bd8de45c58df09df337a725ce28d9",
    "collapsed": true
   },
   "outputs": [],
   "source": [
    "pd.DataFrame(df_teachers['month'].value_counts())"
   ]
  },
  {
   "cell_type": "markdown",
   "metadata": {
    "_uuid": "fce8d19b6b6d6298f540708e652101bc81558b94"
   },
   "source": [
    "**Observations:** Top months teachers posting their first project:\n",
    "- September: 59,495\n",
    "- August: 52,141\n",
    "- October: 48,361"
   ]
  },
  {
   "cell_type": "markdown",
   "metadata": {
    "_uuid": "8d345be3fb2245e16a1eb20b2231a82359060751"
   },
   "source": [
    "#### Teacher project creation change over time\n",
    "We check how Teacher project creation changed over time since 2002. We see here that project creations steady keep on increasing over the years. "
   ]
  },
  {
   "cell_type": "code",
   "execution_count": 18,
   "metadata": {
    "_kg_hide-input": true,
    "_uuid": "6afbb51c9d13d631b8b274a04c8236e2d710de8a",
    "collapsed": true
   },
   "outputs": [],
   "source": [
    "ts = df_teachers.groupby('year').agg({'Teacher ID' : 'count'}).reset_index()\n",
    "plt.figure(figsize=(10,6))\n",
    "plt.plot(ts['year'][:-1],ts['Teacher ID'][:-1], \n",
    "         color=sns.color_palette('plasma')[0] )\n",
    "plt.xlabel('Years')\n",
    "plt.ylabel('Counts')\n",
    "plt.title('Teacher Project Creation Over Time')\n",
    "plt.tight_layout()"
   ]
  },
  {
   "cell_type": "markdown",
   "metadata": {
    "_uuid": "22e2f305de139ee69314cdb45c4875eebe64861d"
   },
   "source": [
    "#### Teacher project creation change over time by Teacher Prefix\n",
    "We check how Teacher project creation changed over time since 2002 by Teacher Prefix. Given by the distribution of Teacher Prefixes, we observe the same trend with Mrs. and Ms. consistently dominating the trendlines. "
   ]
  },
  {
   "cell_type": "code",
   "execution_count": 19,
   "metadata": {
    "_kg_hide-input": true,
    "_uuid": "58742a18ca53464bc5fd7ed98648f3ca1d7ab3c0",
    "collapsed": true
   },
   "outputs": [],
   "source": [
    "plt.figure(figsize=(10,6))\n",
    "pref = ['Mrs.','Ms.','Mr.','Teacher','Dr.','Mx.']\n",
    "for i in range(len(pref)):\n",
    "    ts = df_teachers[df_teachers['Teacher Prefix'] == pref[i]].groupby('year').agg({'Teacher ID' : 'count'}).reset_index()\n",
    "    plt.plot(ts['year'][:-1],ts['Teacher ID'][:-1], marker = 'o',markersize = 8,\n",
    "             color=sns.color_palette('plasma')[i], label = pref[i])\n",
    "    plt.xlabel('Years')\n",
    "    plt.ylabel('Counts')\n",
    "    \n",
    "plt.legend()\n",
    "plt.title('Teacher Project Creation Over Time, by Teacher Prefix')\n",
    "plt.tight_layout()"
   ]
  },
  {
   "cell_type": "markdown",
   "metadata": {
    "_uuid": "c15071d0983666c115b1f26c40c0c3a74ea25043"
   },
   "source": [
    "#### Teacher project creation change over time by Teacher Gender\n",
    "Using Teacher Prefix as a proxy for Teacher Gender, check how Teacher project creation changed over time since 2002 by Gender. Also, given that both Mrs. and Ms. take Female gender assignments, we see the same trend observed above."
   ]
  },
  {
   "cell_type": "code",
   "execution_count": 20,
   "metadata": {
    "_uuid": "4b82deff1fce6fdd099631258c3a170d3b713963",
    "collapsed": true
   },
   "outputs": [],
   "source": [
    "gender = {'Mrs.':'Female','Ms.':'Female','Mr.':'Male','Dr.':'Unknown','Mx.':'Unknown'}\n",
    "df_teachers['gender'] = df_teachers['Teacher Prefix']\n",
    "df_teachers['gender'] = df_teachers['gender'].map(gender)"
   ]
  },
  {
   "cell_type": "code",
   "execution_count": 21,
   "metadata": {
    "_kg_hide-input": true,
    "_uuid": "389ea0ffeffae06162a70779ec35f11b0f6d37ac",
    "collapsed": true
   },
   "outputs": [],
   "source": [
    "plt.figure(figsize=(10,6))\n",
    "\n",
    "genders = ['Female','Male','Unknown']\n",
    "\n",
    "for i in range(len(genders)):\n",
    "    ts = df_teachers[df_teachers['gender'] == genders[i]].groupby('year').agg({'Teacher ID' : 'count'}).reset_index()\n",
    "    \n",
    "    plt.plot(ts['year'][:-1],ts['Teacher ID'][:-1], marker = 'o',markersize = 8,\n",
    "             color=sns.color_palette('plasma')[i], label = genders[i])\n",
    "    plt.xlabel('Years')\n",
    "    plt.ylabel('Counts')\n",
    "    \n",
    "plt.legend()\n",
    "plt.title('Teacher Project Creation Over Time, by Teacher Gender')\n",
    "plt.tight_layout()"
   ]
  },
  {
   "cell_type": "markdown",
   "metadata": {
    "_uuid": "bb19db5a6a6d37579ae739c0edffd8fa14328980"
   },
   "source": [
    "#### Teacher project creation change over time in 2018 by Teacher Prefix\n",
    "We check how the trend changes in 2018. It appears that there are some days that garners spikes in Teacher project creation. "
   ]
  },
  {
   "cell_type": "code",
   "execution_count": 22,
   "metadata": {
    "_kg_hide-input": true,
    "_uuid": "7a7246fd1edbe27546f246421d7fe54bb86180a4",
    "collapsed": true,
    "scrolled": false
   },
   "outputs": [],
   "source": [
    "plt.figure(figsize=(10,6))\n",
    "\n",
    "pref = ['Mrs.','Ms.','Mr.','Teacher','Dr.','Mx.']\n",
    "ts = df_teachers[df_teachers['year'] == 2018]\n",
    "\n",
    "for i in range(len(pref)):\n",
    "    daily = ts[ts['Teacher Prefix']==pref[i]].groupby(\n",
    "        ts['Teacher First Project Posted Date']).agg({'Teacher ID' : 'count'}).reset_index()\n",
    "    \n",
    "    plt.plot(daily['Teacher First Project Posted Date'],\n",
    "             daily['Teacher ID'],\n",
    "             color=sns.color_palette('Dark2')[i], label = pref[i])\n",
    "    plt.xlabel('Days')\n",
    "    plt.ylabel('Counts')\n",
    "    \n",
    "plt.legend()\n",
    "plt.title('Teacher Project Creation in 2018')\n",
    "plt.tight_layout()"
   ]
  },
  {
   "cell_type": "markdown",
   "metadata": {
    "_uuid": "2b0547c69e14a84bafb64de443fb29c18d6ffd6d"
   },
   "source": [
    "## Schools Dataset"
   ]
  },
  {
   "cell_type": "markdown",
   "metadata": {
    "_uuid": "4fd662485be6af4b02edab7479c3bfbb686c2850"
   },
   "source": [
    "#### Schools Metro Type distribution\n",
    "We check from which metro type do schools come from. Given that a school's metro type can be a proxy for the amount of government and private support an institution gets, it is of interest to determine how the schools are distributed by metro type. It is possible that more projects are created and do receive more donations in Rural and Suburban areas, as validated in the exploration below."
   ]
  },
  {
   "cell_type": "code",
   "execution_count": 23,
   "metadata": {
    "_kg_hide-input": true,
    "_uuid": "ed3afb1bfde998536fdaf400d5a865056f696e6f",
    "collapsed": true,
    "scrolled": false
   },
   "outputs": [],
   "source": [
    "plt.figure(figsize=(10,6))\n",
    "plt.bar(df_schools['School Metro Type'].value_counts().index, \n",
    "        df_schools['School Metro Type'].value_counts(),\n",
    "        color=sns.color_palette('plasma'))\n",
    "plt.xlabel('Metro Type')\n",
    "plt.ylabel('Counts')\n",
    "plt.title('Schools Metro Type Distribution')\n",
    "plt.tight_layout()"
   ]
  },
  {
   "cell_type": "markdown",
   "metadata": {
    "_uuid": "ef199c83a88e3fe808ba269019e429c6070d079e"
   },
   "source": [
    "#### Schools Percentage Free Lunch distribution\n",
    "We check how many schools give out free lunch. Similar above, schools' percentage free lunch is also a good proxy for a school's economic status, a determinant whether the student population fall below the poverty line or not."
   ]
  },
  {
   "cell_type": "code",
   "execution_count": 24,
   "metadata": {
    "_kg_hide-input": true,
    "_uuid": "a05d58a18ffedee65d01a18088ffec9a96263583",
    "collapsed": true,
    "scrolled": false
   },
   "outputs": [],
   "source": [
    "plt.figure(figsize=(10,6))\n",
    "df_schools['School Percentage Free Lunch'].hist(bins = 50, color=sns.color_palette('plasma')[2])\n",
    "plt.xlabel('School Percentage Free Lunch')\n",
    "plt.ylabel('Counts')\n",
    "plt.title('School Percentage Free Lunch')\n",
    "plt.tight_layout()"
   ]
  },
  {
   "cell_type": "code",
   "execution_count": 25,
   "metadata": {
    "_kg_hide-input": true,
    "_uuid": "264c2ca352489730dc83423aee7a86858eb18785",
    "collapsed": true,
    "scrolled": true
   },
   "outputs": [],
   "source": [
    "pd.DataFrame(df_schools['School Percentage Free Lunch'].describe())"
   ]
  },
  {
   "cell_type": "markdown",
   "metadata": {
    "_uuid": "1cbb2de727d94b25d5239ed7abd1a0907c6ab999"
   },
   "source": [
    "#### Schools State distribution\n",
    "We check where do schools come from. We would like to see where teachers in public schools find themselves lacking in terms of educational materials. It is interesting as information on this could not only be used to help DonorsChoose.org but also state governments in prioritizing funds for public education."
   ]
  },
  {
   "cell_type": "code",
   "execution_count": 26,
   "metadata": {
    "_kg_hide-input": true,
    "_uuid": "aadc9d9b1c8b842af88498b794f2a7bd8f31fdc0",
    "collapsed": true,
    "scrolled": false
   },
   "outputs": [],
   "source": [
    "plt.figure(figsize=(10,14))\n",
    "\n",
    "plt.barh(np.arange(0,816,16), \n",
    "        df_schools['School State'].value_counts()[::-1], height = 12, \n",
    "        color=sns.color_palette('plasma'), align='center')\n",
    "\n",
    "plt.yticks(np.arange(0,816,16),df_schools['School State'].value_counts()[::-1].index)\n",
    "plt.xlabel('Counts')\n",
    "plt.ylabel('State')\n",
    "plt.title('School State Distribution')\n",
    "plt.tight_layout()"
   ]
  },
  {
   "cell_type": "markdown",
   "metadata": {
    "_uuid": "8098e29410d8270aa921067856bf2bbb0434c7b8"
   },
   "source": [
    "## Donors Dataset"
   ]
  },
  {
   "cell_type": "markdown",
   "metadata": {
    "_uuid": "ef6e132e25364dc34372243c3f88bba0b6dfd24b"
   },
   "source": [
    "#### Donor-Teacher distribution\n",
    "We check how many donors are teachers. Here we see whether being a teacher actually encourage you to donate, given that a teacher has probably experienced being in need. We see here that majority of the donors are non-teachers."
   ]
  },
  {
   "cell_type": "code",
   "execution_count": 27,
   "metadata": {
    "_kg_hide-input": true,
    "_uuid": "321092dccf5a51141b70f4231d0f5ca7eb5962b1",
    "collapsed": true,
    "scrolled": false
   },
   "outputs": [],
   "source": [
    "plt.figure(figsize=(10,6))\n",
    "plt.bar(df_donors['Donor Is Teacher'].value_counts().index, \n",
    "        df_donors['Donor Is Teacher'].value_counts(),\n",
    "        color=sns.color_palette('plasma'))\n",
    "plt.xlabel('Donor Is Teacher')\n",
    "plt.ylabel('Counts')\n",
    "plt.title('Donor-Teacher Distribution')\n",
    "plt.tight_layout()"
   ]
  },
  {
   "cell_type": "markdown",
   "metadata": {
    "_uuid": "03bd81067b59e62e342d0ee6fee8be7b4b6effb6"
   },
   "source": [
    "#### Donors State distribution\n",
    "We check where the donors are coming from. Similar to mapping where beneficiary schools are, it is also of interest to know where the donors are coming from. "
   ]
  },
  {
   "cell_type": "code",
   "execution_count": 28,
   "metadata": {
    "_kg_hide-input": true,
    "_uuid": "ba30dde4e5f1093dc0029e02eb5f160f8ca8dd1e",
    "collapsed": true
   },
   "outputs": [],
   "source": [
    "plt.figure(figsize=(10,14))\n",
    "plt.barh(np.arange(0,832,16),\n",
    "        df_donors['Donor State'].value_counts()[::-1], height = 12, \n",
    "         color=sns.color_palette('plasma'), align='center')\n",
    "plt.yticks(np.arange(0,832,16), df_donors['Donor State'].value_counts()[::-1].index)\n",
    "plt.xlabel('Counts')\n",
    "plt.ylabel('State')\n",
    "plt.title('Donors State Distribution')\n",
    "plt.tight_layout()"
   ]
  },
  {
   "cell_type": "markdown",
   "metadata": {
    "_uuid": "f56671a0a7344004f657e34ec8adf1c4c2cbd420"
   },
   "source": [
    "#### Donors City distribution\n",
    "We check where the donors are coming from. Similar to mapping where beneficiary schools are, it is also of interest to know where the donors are coming from. "
   ]
  },
  {
   "cell_type": "code",
   "execution_count": 29,
   "metadata": {
    "_kg_hide-input": true,
    "_uuid": "66d5ea77e47e51644d7d29002f8866253d565f31",
    "collapsed": true,
    "scrolled": false
   },
   "outputs": [],
   "source": [
    "plt.figure(figsize=(10,14))\n",
    "plt.barh(np.arange(0, 240, 16),\n",
    "        df_donors['Donor City'].value_counts()[:15][::-1], height = 12, \n",
    "         color=sns.color_palette('plasma'), align='center')\n",
    "plt.yticks(np.arange(0, 256, 16), df_donors['Donor City'].value_counts()[:15][::-1].index)\n",
    "plt.xlabel('Counts')\n",
    "plt.ylabel('City')\n",
    "plt.title('Donors City Distribution')\n",
    "plt.tight_layout()"
   ]
  },
  {
   "cell_type": "code",
   "execution_count": 30,
   "metadata": {
    "_kg_hide-input": true,
    "_uuid": "2555146b6244ad5e0d57d9aacf325ba102b8d97c",
    "collapsed": true,
    "scrolled": true
   },
   "outputs": [],
   "source": [
    "pd.DataFrame(df_donors['Donor City'].value_counts()[:15])"
   ]
  },
  {
   "cell_type": "markdown",
   "metadata": {
    "_uuid": "17d50459742e0f2a6ff8bae49e933dbac07ae005"
   },
   "source": [
    "**Observations:** Top cities where donors are coming from:\n",
    "- Chicago: 34,352\n",
    "- New York: 27,863\n",
    "- Brooklyn: 22,330\n",
    "- Los Angeles: 18,320\n",
    "- San Francisco: 16,925\n"
   ]
  },
  {
   "cell_type": "markdown",
   "metadata": {
    "_uuid": "7c7106817576a4f9fa0e3c24295c707e314dec2f"
   },
   "source": [
    "[](http://)#### Donation Time per Location of Donor\n",
    "We see if we can find a pattern in the time of donations and locations. "
   ]
  },
  {
   "cell_type": "code",
   "execution_count": 31,
   "metadata": {
    "_kg_hide-input": true,
    "_kg_hide-output": true,
    "_uuid": "e3d1b6e48a0f0eaced6e9f1c7c81944e0980d840",
    "collapsed": true
   },
   "outputs": [],
   "source": [
    "# Donation Time per Location of Donor\n",
    "print(\"Donors Features:\",df_donors.columns)\n",
    "print(\"Donations Features:\",df_donations.columns)"
   ]
  },
  {
   "cell_type": "markdown",
   "metadata": {
    "_uuid": "e109212640910ceef593380ad56d2d51beb1cf16"
   },
   "source": [
    "We are concerned with `Donor ID`, `Donor City`, `Donor State`, and `Donation Received Date`."
   ]
  },
  {
   "cell_type": "code",
   "execution_count": 32,
   "metadata": {
    "_uuid": "df1ccdc48dea6f631a69a7e809f440e38d1b0426",
    "collapsed": true
   },
   "outputs": [],
   "source": [
    "df_donations[['Donor ID', 'Donation Received Date']].head()"
   ]
  },
  {
   "cell_type": "code",
   "execution_count": 33,
   "metadata": {
    "_uuid": "98a4e8f3e6a2142ef1257a3040a9d46dbb2f7d2e",
    "collapsed": true
   },
   "outputs": [],
   "source": [
    "df_donors[['Donor ID', 'Donor State', 'Donor City']].head()"
   ]
  },
  {
   "cell_type": "markdown",
   "metadata": {
    "_uuid": "39b9b07a1cd74d109afe64b5687a89443a5f97fb"
   },
   "source": [
    "Merging `df_donors` and `df_donations` by `Donor ID` and checking the dimensions:"
   ]
  },
  {
   "cell_type": "code",
   "execution_count": 34,
   "metadata": {
    "_uuid": "665983aafac8ce4945943885912504c2b752bf9b",
    "collapsed": true
   },
   "outputs": [],
   "source": [
    "df_temp = pd.merge(df_donors, df_donations, on=['Donor ID'])[['Donor ID', 'Donor State', 'Donor City', 'Donation Received Date']]\n",
    "print(df_donations.shape)\n",
    "print(df_donors.shape)\n",
    "print(df_temp.shape)"
   ]
  },
  {
   "cell_type": "markdown",
   "metadata": {
    "_uuid": "92fb47e2047c95ca4d979bd110df6581e9719674"
   },
   "source": [
    "Converting `Donation Received Date` to datetime format."
   ]
  },
  {
   "cell_type": "code",
   "execution_count": 35,
   "metadata": {
    "_uuid": "7d77a0271ef51a2964193a48e60735a447065556",
    "collapsed": true
   },
   "outputs": [],
   "source": [
    "df_temp.iloc[:, -1] = pd.to_datetime(df_temp.iloc[:, -1])"
   ]
  },
  {
   "cell_type": "code",
   "execution_count": 36,
   "metadata": {
    "_uuid": "5fb14f27d612ef84b2a7ca143beebe470b4d79cf",
    "collapsed": true
   },
   "outputs": [],
   "source": [
    "df_temp.head()"
   ]
  },
  {
   "cell_type": "markdown",
   "metadata": {
    "_uuid": "aa73df30ae2f3860b63ff105e22b4b90a4503183"
   },
   "source": [
    "![](http://)We separate date and time into year, time, month, and day"
   ]
  },
  {
   "cell_type": "code",
   "execution_count": 37,
   "metadata": {
    "_uuid": "053a7653cbded509433a4b0f507c4d2659e6ddd3",
    "collapsed": true
   },
   "outputs": [],
   "source": [
    "df_temp['Donation Received Time'] = [d.time() for d in df_temp['Donation Received Date']]\n",
    "df_temp['Donation Received Year'] = [d.year for d in df_temp['Donation Received Date']]\n",
    "df_temp['Donation Received Month'] = [d.month for d in df_temp['Donation Received Date']]\n",
    "df_temp['Donation Received Day'] = [d.day for d in df_temp['Donation Received Date']]\n",
    "df_temp.head()"
   ]
  },
  {
   "cell_type": "markdown",
   "metadata": {
    "_uuid": "343ef3f3d3619b97881d5951d9d0120b6e237304"
   },
   "source": [
    "We get the list of states and save in `states`."
   ]
  },
  {
   "cell_type": "code",
   "execution_count": 38,
   "metadata": {
    "_uuid": "5b745d22596b46018a172d1c21030cdc1b25376b",
    "collapsed": true
   },
   "outputs": [],
   "source": [
    "states = set(df_temp['Donor State'].values)\n",
    "len(states)"
   ]
  },
  {
   "cell_type": "markdown",
   "metadata": {
    "_uuid": "1a6dc99963936c1b842a19b6fc09f5bd0eb8e07c"
   },
   "source": [
    "We ranomly select five states to visualize. Below are the states selected:"
   ]
  },
  {
   "cell_type": "code",
   "execution_count": 49,
   "metadata": {
    "_uuid": "f4763ec4687a4673b0ef2e768597551854a257c8",
    "collapsed": true
   },
   "outputs": [],
   "source": [
    "# Select Random States to Visualize\n",
    "import random\n",
    "random.seed(33)\n",
    "states_5 = random.sample(states, 5)\n",
    "states_5"
   ]
  },
  {
   "cell_type": "markdown",
   "metadata": {
    "_uuid": "a521d8268dbb87d06dcc22bb9696b907b0d5d0ed"
   },
   "source": [
    "Below are the swarmplots showing donations over time for each of the five random states selected. We show only 1000 datapoints per state. The colors are the cities. Note that donors in the same cities tend to donate in groups as shown by the vertical stacks of similarly-colored dots. Long vertical stacks of points with the same color indicate donations from multiple donors coming from the same city at any short period of time. From these swarmplots, we immediately see a possible clustering of donors based on location. We can choose to visualize all states and still see the same pattern.\n",
    "\n",
    "Supporting this observation, a 2016 research by Traag on Campaign Donations found that donation is socially contagious, and can travel through networks of people. The chances of people donating increase when they are exposed to donors who are from different social groups (don't know each other) as well as from donors who belong in the same social group (know each other). <sup>5</sup>"
   ]
  },
  {
   "cell_type": "code",
   "execution_count": 50,
   "metadata": {
    "_kg_hide-input": true,
    "_uuid": "32eeadd4c5d41787209ab0ffc2a8866216d91418",
    "collapsed": true,
    "scrolled": false
   },
   "outputs": [],
   "source": [
    "# Plotting 1st 1000 datapoints per state in states_5\n",
    "for state in states_5:\n",
    "    plt.figure(figsize=(15,3))\n",
    "    a = df_temp[df_temp['Donor State'] == state][:1000]\n",
    "    #b = a[a['Donation Received Year']==2015]\n",
    "    #b = b[b['Donation Received Month']]\n",
    "    ax = sns.swarmplot(y = 'Donor State', x = 'Donation Received Date', hue = 'Donor City', data=a, palette='Set2')\n",
    "    plt.title(state)\n",
    "    ax.legend_.remove()\n",
    "    plt.show()"
   ]
  },
  {
   "cell_type": "markdown",
   "metadata": {
    "_uuid": "3b7f5f0649d380d21bb63ed3b5d4ee394eb7943f"
   },
   "source": [
    "## Donations Dataset"
   ]
  },
  {
   "cell_type": "markdown",
   "metadata": {
    "_uuid": "5309b55b8e10b67fff3b5541fa895bfe965b545b"
   },
   "source": [
    "#### Donations Dataset preprocessing\n",
    "We change `Donation Received Date`to datetime format in order to explore time series trends over it."
   ]
  },
  {
   "cell_type": "code",
   "execution_count": 41,
   "metadata": {
    "_uuid": "f8696080c9cecd4e79d9c0f82fb6cb4b3345dd31",
    "collapsed": true
   },
   "outputs": [],
   "source": [
    "df_donations['Donation Received Date'] = pd.to_datetime(\n",
    "    df_donations['Donation Received Date'], errors='coerce')\n",
    "\n",
    "df_donations['year'] = df_donations['Donation Received Date'].dt.year\n",
    "df_donations['day-formated'] = df_donations['Donation Received Date'].dt.strftime('%m/%d/%Y')"
   ]
  },
  {
   "cell_type": "markdown",
   "metadata": {
    "_uuid": "58d7f3e544a2e6a8b03922b95baec05c12b62f49"
   },
   "source": [
    "#### Donations Amount distribution\n",
    "We check how much are the typical donations to donorchoose.org projects. It is interesting to know how much donors are actually putting in to Teachers' causes. "
   ]
  },
  {
   "cell_type": "code",
   "execution_count": 42,
   "metadata": {
    "_kg_hide-input": true,
    "_uuid": "4dac306300f555f6d0b56dc7febcbe1a7c961901",
    "collapsed": true,
    "scrolled": false
   },
   "outputs": [],
   "source": [
    "plt.figure(figsize=(10,6))\n",
    "df_donations['Donation Amount'].hist(bins = 50, range = (0,500), color=sns.color_palette('plasma')[2])\n",
    "plt.xlabel('Donation Amount')\n",
    "plt.ylabel('Counts')\n",
    "plt.title('Donations Amount Distribution')\n",
    "plt.tight_layout()"
   ]
  },
  {
   "cell_type": "markdown",
   "metadata": {
    "_uuid": "a5f52c57b5e2025f1a641fb2e47d4237f08fce46"
   },
   "source": [
    "#### Donations Included Optional Donation distribution\n",
    "We check how many donations included optional support to donorschoose.org. As a proxy for implied loyalty and confidence on the organization and crowdfunding host, donorschoose.org, the `Donation Included Optional Donation` can be telling of a donor's long term engagement with the platform, possibly donating again. We see here that most donations come with the optional support to donorschoose.org. "
   ]
  },
  {
   "cell_type": "code",
   "execution_count": 43,
   "metadata": {
    "_kg_hide-input": true,
    "_uuid": "4514245e34cd7bcee6dae1e349e2efaa17932d81",
    "collapsed": true,
    "scrolled": false
   },
   "outputs": [],
   "source": [
    "plt.figure(figsize=(10,6))\n",
    "plt.bar(df_donations['Donation Included Optional Donation'].value_counts().index, \n",
    "        df_donations['Donation Included Optional Donation'].value_counts(),\n",
    "        color=sns.color_palette('plasma'))\n",
    "plt.xlabel('Donation Included Optional Donation')\n",
    "plt.ylabel('Counts')\n",
    "plt.title('Donations Included Optional Donation Distribution')\n",
    "plt.tight_layout()"
   ]
  },
  {
   "cell_type": "markdown",
   "metadata": {
    "_uuid": "f32f2ab542e09a8dcb783b5a10065422d5904a32"
   },
   "source": [
    "#### Donations received trend over time in 2018\n",
    "Check when donations are received the most and how the trend of donation receipts changes over time in 2018. Similar to micro trends in the Projects dataset, we observe some spikes here. Interesting, the biggest spike can be found on January 2nd. Perhaps, people all over the U.S. wanted to share their generosity coming from the Christmas and New Year holidays; or maybe, some of them consider donating to donorschoose.org part of their New Year's resolution."
   ]
  },
  {
   "cell_type": "code",
   "execution_count": 44,
   "metadata": {
    "_kg_hide-input": true,
    "_uuid": "1b74c9837b4f940af0bd74bda3219ddbae55010b",
    "collapsed": true,
    "scrolled": false
   },
   "outputs": [],
   "source": [
    "plt.figure(figsize=(10,6))\n",
    "\n",
    "included = ['Yes','No']\n",
    "ts = df_donations[df_donations['year']==2018]\n",
    "\n",
    "for i in range(len(included)):\n",
    "    daily = ts[ts['Donation Included Optional Donation']==included[i]].groupby(\n",
    "        ts['day-formated']).agg({'Donation ID' : 'count'}).reset_index()\n",
    "    \n",
    "    plt.plot(daily['day-formated'],\n",
    "             daily['Donation ID'],\n",
    "             color=sns.color_palette('Dark2')[i], label = included[i])\n",
    "    plt.xlabel('Days')\n",
    "    plt.ylabel('Counts')\n",
    "\n",
    "plt.xticks([0,25, 50,75,100,125,150])\n",
    "plt.legend()\n",
    "plt.title('Donations Received Trend in 2018')\n",
    "plt.tight_layout()"
   ]
  },
  {
   "cell_type": "markdown",
   "metadata": {
    "_uuid": "cfac9bf2d06f01fea0d293b1c7fef849a033d441"
   },
   "source": [
    "## Resources Dataset"
   ]
  },
  {
   "cell_type": "markdown",
   "metadata": {
    "_uuid": "1a0185724b3e78f209404415730954db193e6d5b"
   },
   "source": [
    "#### Resources Unit Price distribution\n",
    "We check how the unit price for requested items in the projects are distributed. It is also interesting to know how much the items requested cost for the projects posted by teachers. Are they really expensive? Can teachers afford them otherwise? How cheap or expensive can they get?"
   ]
  },
  {
   "cell_type": "code",
   "execution_count": 45,
   "metadata": {
    "_kg_hide-input": true,
    "_uuid": "d0f2a6d1e14a712e09d9c1d630d7e8f60a80f4b6",
    "collapsed": true
   },
   "outputs": [],
   "source": [
    "df = df_resources\n",
    "\n",
    "fig = plt.figure(figsize=(10,6))\n",
    "ax2 = fig.add_subplot(111)\n",
    "ax2.hist(df[df['Resource Unit Price']<100]['Resource Unit Price'],100, color=sns.color_palette('viridis')[1]);\n",
    "\n",
    "ax3 = fig.add_axes([0.55,0.5,0.4,0.4])\n",
    "ax3.hist(df['Resource Unit Price'].dropna(), 50, color=sns.color_palette('viridis')[0]);\n",
    "ax2.set_xlabel(\"Resource Unit Price ($)\")\n",
    "ax2.set_ylabel('Frequency')\n",
    "\n",
    "ax3.set_xlabel(\"Resource Unit Price ($)\")\n",
    "ax3.set_ylabel('Frequency')\n",
    "ax2.set_title('Distribution of Resource Unit Price', size = 18)\n",
    "plt.tight_layout()"
   ]
  },
  {
   "cell_type": "markdown",
   "metadata": {
    "_uuid": "1ebd7b96929c90f14e4c84a20f87226b1aa3f26e"
   },
   "source": [
    "#### Resource Unit Price vs Resource Quantity\n",
    "We check the relationship of price and quantity for resource items requested. Here we map how many of how much are requested by teachers. We observe a power law distribution noting that more expensive items tend to be requested at less quantities than cheaper ones."
   ]
  },
  {
   "cell_type": "code",
   "execution_count": 46,
   "metadata": {
    "_kg_hide-input": true,
    "_uuid": "e6b2e83f76e51a78cf6d931c871cc31eae740070",
    "collapsed": true,
    "scrolled": false
   },
   "outputs": [],
   "source": [
    "fig = plt.figure(figsize=(10,6))\n",
    "ax4 = fig.add_subplot(111)\n",
    "ax4.scatter(df['Resource Quantity'],df['Resource Unit Price'], color='#aa3333')\n",
    "ax4.set_xlabel('Resource Quantity')\n",
    "ax4.set_ylabel('Resource Unit Price')\n",
    "ax4.set_title('Relationship of Resource Unit Price vs. Resource Quantity', size =18)\n",
    "ax4.set_xlim(0,600);"
   ]
  },
  {
   "cell_type": "markdown",
   "metadata": {
    "_uuid": "1c5a4c3199627fff17ed827e2cbe90d1a5009cbd"
   },
   "source": [
    "## Projects Dataset"
   ]
  },
  {
   "cell_type": "markdown",
   "metadata": {
    "_uuid": "2a430e28014dde164cf8e8173467cc40e8535266"
   },
   "source": [
    "#### Projects Dataset preprocessing\n",
    "We change supposed datetime data to appropriate datatype for further exploration."
   ]
  },
  {
   "cell_type": "code",
   "execution_count": 47,
   "metadata": {
    "_uuid": "f3b30222ec48737fc11e2999d73dc62d59cb40ff",
    "collapsed": true
   },
   "outputs": [],
   "source": [
    "df_projects['Project Posted Date'] = pd.to_datetime(\n",
    "    df_projects['Project Posted Date'], errors='coerce')\n",
    "\n",
    "df_projects['Project Expiration Date'] = pd.to_datetime(\n",
    "    df_projects['Project Expiration Date'], errors='coerce')\n",
    "\n",
    "df_projects['Project Fully Funded Date'] = pd.to_datetime(\n",
    "    df_projects['Project Fully Funded Date'], errors='coerce')\n",
    "\n",
    "df_projects.dtypes"
   ]
  },
  {
   "cell_type": "code",
   "execution_count": 48,
   "metadata": {
    "_uuid": "99719fc41167e8b0c47ff02b939bcb7f0cf4b7a9",
    "collapsed": true
   },
   "outputs": [],
   "source": [
    "df_projects['year-posted'] = df_projects['Project Posted Date'].dt.year\n",
    "df_projects['day-posted-formated'] = df_projects['Project Posted Date'].dt.strftime('%m/%d/%Y')\n",
    "\n",
    "df_projects['year-expiry'] = df_projects['Project Expiration Date'].dt.year\n",
    "df_projects['day-expiry-formated'] = df_projects['Project Expiration Date'].dt.strftime('%m/%d/%Y')\n",
    "\n",
    "df_projects['year-funded'] = df_projects['Project Fully Funded Date'].dt.year\n",
    "df_projects['day-funded-formated'] = df_projects['Project Fully Funded Date'].dt.strftime('%m/%d/%Y')\n",
    "\n",
    "df_projects['delta-days-before-expiry'] = (df_projects['Project Expiration Date'] - df_projects['Project Posted Date']).dt.days\n",
    "df_projects['delta-days-before-funded'] = (df_projects['Project Fully Funded Date'] - df_projects['Project Posted Date']).dt.days"
   ]
  },
  {
   "cell_type": "code",
   "execution_count": null,
   "metadata": {
    "_uuid": "e195e10e0f975722abd6cf7e9b79ce214e7046a0",
    "collapsed": true,
    "scrolled": true
   },
   "outputs": [],
   "source": [
    "df_projects.columns.tolist()"
   ]
  },
  {
   "cell_type": "markdown",
   "metadata": {
    "_uuid": "e7df2ea00da85538ab0badef6ce5dcbbc036e9af"
   },
   "source": [
    "#### Unique Projects by Teacher ID\n",
    "We check how many projects do teachers have initiated. We see here how active teachers are in terms of project creation."
   ]
  },
  {
   "cell_type": "code",
   "execution_count": null,
   "metadata": {
    "_kg_hide-input": true,
    "_uuid": "fb7ae6a7320c2a13d98348729e370d55c2370d2f",
    "collapsed": true,
    "scrolled": false
   },
   "outputs": [],
   "source": [
    "pd.DataFrame(df_projects['Teacher ID'].value_counts().describe())"
   ]
  },
  {
   "cell_type": "markdown",
   "metadata": {
    "_uuid": "b63515e2a98d238c767104b0c082fbaf6ed079f2"
   },
   "source": [
    "**Observations:** Most teachers only created projects once with many creating an average 2.8 projects ever since."
   ]
  },
  {
   "cell_type": "markdown",
   "metadata": {
    "_uuid": "5c59e4e9b7e56bf10465abcc820c6efad911113b"
   },
   "source": [
    "#### Projects Type distribution\n",
    "We check how the types of projects are distributed across all projects created. We see here that most projects are teacher-led, with just a few student-led or coming from professional-development."
   ]
  },
  {
   "cell_type": "code",
   "execution_count": null,
   "metadata": {
    "_kg_hide-input": true,
    "_uuid": "ac7781a1f41a1f35e73dde7cbe9c207924d191ef",
    "collapsed": true,
    "scrolled": false
   },
   "outputs": [],
   "source": [
    "plt.figure(figsize=(10,6))\n",
    "plt.bar(df_projects['Project Type'].value_counts().index, \n",
    "        df_projects['Project Type'].value_counts(),\n",
    "        color=sns.color_palette('viridis'))\n",
    "plt.xlabel('Project Type')\n",
    "plt.ylabel('Counts')\n",
    "plt.title('Projects Type Distribution')\n",
    "plt.tight_layout()"
   ]
  },
  {
   "cell_type": "markdown",
   "metadata": {
    "_uuid": "9cca6aa33bf4f4774a17eaf9c97beda61b05e592"
   },
   "source": [
    "#### Projects Subject Category Tree distribution\n",
    "We check what subject categories the projects fall into. We observe here that the top projects belong to literacy and language category."
   ]
  },
  {
   "cell_type": "code",
   "execution_count": null,
   "metadata": {
    "_kg_hide-input": true,
    "_uuid": "ae08ebc28f8aadd09e2d575d3bce03c46fa25121",
    "collapsed": true,
    "scrolled": false
   },
   "outputs": [],
   "source": [
    "plt.figure(figsize=(10,6))\n",
    "plt.barh(df_projects['Project Subject Category Tree'].value_counts()[:15].index, \n",
    "        df_projects['Project Subject Category Tree'].value_counts()[:15],\n",
    "        color=sns.color_palette('viridis'))\n",
    "plt.xlabel('Counts')\n",
    "plt.ylabel('Project Subject Category Tree')\n",
    "plt.title('Projects Subject Category Tree Distribution')\n",
    "plt.tight_layout()"
   ]
  },
  {
   "cell_type": "markdown",
   "metadata": {
    "_uuid": "545a20297bc27cdd06b27bda9ea90b33d34ef09d"
   },
   "source": [
    "#### Projects Subject Subcategory Tree distribution\n",
    "We check what subject subcategories the projects fall into. Similarly, we observe that top projects deal with either literacy, mathematics, and writing."
   ]
  },
  {
   "cell_type": "code",
   "execution_count": null,
   "metadata": {
    "_kg_hide-input": true,
    "_uuid": "fa8360ea990baa78a01329673bca0d4923ab2b21",
    "collapsed": true,
    "scrolled": false
   },
   "outputs": [],
   "source": [
    "plt.figure(figsize=(10,6))\n",
    "plt.barh(df_projects['Project Subject Subcategory Tree'].value_counts()[:15].index, \n",
    "        df_projects['Project Subject Subcategory Tree'].value_counts()[:15],\n",
    "        color=sns.color_palette('viridis'))\n",
    "plt.xlabel('Counts')\n",
    "plt.ylabel('Project Subject Subcategory Tree')\n",
    "plt.title('Projects Subject Subcategory Tree Distribution')\n",
    "plt.tight_layout()"
   ]
  },
  {
   "cell_type": "markdown",
   "metadata": {
    "_uuid": "a458590aebe5531d909e00693e1c152389d1b2d2"
   },
   "source": [
    "#### Projects Grade Level Category distribution\n",
    "We check what grade level categories the projects fall into."
   ]
  },
  {
   "cell_type": "code",
   "execution_count": null,
   "metadata": {
    "_kg_hide-input": true,
    "_uuid": "010a1a58ef153188469860da1710705dbb158d80",
    "collapsed": true,
    "scrolled": false
   },
   "outputs": [],
   "source": [
    "temp = df_projects['Project Grade Level Category'].value_counts()\n",
    "fig = {\n",
    "  \"data\": [\n",
    "    {\n",
    "      \"values\": temp.values,\n",
    "      \"labels\": temp.index,\n",
    "      \"domain\": {\"x\": [0, .48]},\n",
    "      \"name\": \"Grade Level Category\",\n",
    "      #\"hoverinfo\":\"label+percent+name\",\n",
    "      'marker': {'colors': ['rgb(45, 35, 113)',\n",
    "                                  'rgb(0, 208, 110)',\n",
    "                                  'rgb(0, 208, 202)',\n",
    "                                  'rgb(83, 158, 196)',\n",
    "                                  'rgb(124, 231, 87)']},\n",
    "      \"hole\": .7,\n",
    "      \"type\": \"pie\"\n",
    "    },\n",
    "    \n",
    "    ],\n",
    "  \"layout\": {\n",
    "        \"title\":\"Distribution of Projects Grade Level Category\",\n",
    "        \"annotations\": [\n",
    "            {\n",
    "                \"font\": {\n",
    "                    \"size\": 20\n",
    "                },\n",
    "                \"showarrow\": False,\n",
    "                \"text\": \"Grade Level Categories\",\n",
    "                \"x\": 0.11,\n",
    "                \"y\": 0.5\n",
    "            }\n",
    "            \n",
    "        ]\n",
    "    }\n",
    "}\n",
    "iplot(fig, filename='donut')"
   ]
  },
  {
   "cell_type": "markdown",
   "metadata": {
    "_uuid": "0b1025dbf5d3a91b7c9c03a0e24f6c31477567d9"
   },
   "source": [
    "#### Projects Resource Category distribution\n",
    "We check what resource categories the projects fall into. Here we observe that projects request technology, supplies, or books the most."
   ]
  },
  {
   "cell_type": "code",
   "execution_count": null,
   "metadata": {
    "_kg_hide-input": true,
    "_uuid": "6494595405ae28d1d37a0957a0ec3bfee3637482",
    "collapsed": true,
    "scrolled": true
   },
   "outputs": [],
   "source": [
    "plt.figure(figsize=(10,6))\n",
    "plt.barh(df_projects['Project Resource Category'].value_counts().index, \n",
    "        df_projects['Project Resource Category'].value_counts(),\n",
    "        color=sns.color_palette('viridis'))\n",
    "plt.xlabel('Counts')\n",
    "plt.ylabel('Project Resource Category')\n",
    "plt.title('Projects Resource Category Distribution')\n",
    "plt.tight_layout()"
   ]
  },
  {
   "cell_type": "markdown",
   "metadata": {
    "_uuid": "de095eca4a33444e88a082e0542b38772712dabf"
   },
   "source": [
    "#### Projects Current Status distribution\n",
    "We check what status the projects are in now. We would like to see how many projects are still running and are already fully funded."
   ]
  },
  {
   "cell_type": "code",
   "execution_count": null,
   "metadata": {
    "_kg_hide-input": true,
    "_uuid": "c116f02b2b56fedb0ab5b2e2ce1e0ab0c7c0820a",
    "collapsed": true,
    "scrolled": false
   },
   "outputs": [],
   "source": [
    "plt.figure(figsize=(10,6))\n",
    "plt.barh(df_projects['Project Current Status'].value_counts().index, \n",
    "        df_projects['Project Current Status'].value_counts(),\n",
    "        color=sns.color_palette('viridis'))\n",
    "plt.xlabel('Counts')\n",
    "plt.ylabel('Project Current Status')\n",
    "plt.title('Projects Current Status Distribution')\n",
    "plt.tight_layout()"
   ]
  },
  {
   "cell_type": "markdown",
   "metadata": {
    "_uuid": "999cb50cbcb36882045d6422c2800048bc2d35ea"
   },
   "source": [
    "#### Projects Costs distribution\n",
    "We check how the costs of the projects are distributed."
   ]
  },
  {
   "cell_type": "code",
   "execution_count": null,
   "metadata": {
    "_kg_hide-input": true,
    "_uuid": "b8f6a90161c2c55a979da725f022dcfca1a96ece",
    "collapsed": true,
    "scrolled": false
   },
   "outputs": [],
   "source": [
    "df = df_projects\n",
    "\n",
    "fig = plt.figure(figsize=(10,6))\n",
    "ax2 = fig.add_subplot(111)\n",
    "ax2.hist(df[df['Project Cost']<5000]['Project Cost'],100, color=sns.color_palette('viridis')[1]);\n",
    "\n",
    "ax3 = fig.add_axes([0.55,0.5,0.4,0.4])\n",
    "ax3.hist(df['Project Cost'].dropna(), 50, color=sns.color_palette('viridis')[0]);\n",
    "ax2.set_xlabel(\"Project Cost ($)\")\n",
    "ax2.set_ylabel('Frequency')\n",
    "\n",
    "ax3.set_xlabel(\"Project Cost ($)\")\n",
    "ax3.set_ylabel('Frequency')\n",
    "ax2.set_title('Distribution of Project Cost', size = 18)\n",
    "plt.tight_layout()"
   ]
  },
  {
   "cell_type": "code",
   "execution_count": null,
   "metadata": {
    "_kg_hide-input": true,
    "_uuid": "0f88cfbcd22e34a5ddbd3a81e0f020213ed8bdce",
    "collapsed": true,
    "scrolled": false
   },
   "outputs": [],
   "source": [
    "pd.DataFrame(df_projects['Project Cost'].describe())"
   ]
  },
  {
   "cell_type": "markdown",
   "metadata": {
    "_uuid": "f50bf59cb43fecf318ea422cabc14559ae941f2f"
   },
   "source": [
    "**Observations:** The average cost of a project is around 741 dollars pulled up by a few high value projects with the largest costing 255,737 dollars. 75% of the projects costs less than 868 dollars."
   ]
  },
  {
   "cell_type": "markdown",
   "metadata": {
    "_uuid": "0153e4e33346366a1bcc59547c6a78c9b1ae435a"
   },
   "source": [
    "#### Number of days before project gets fully funded\n",
    "We check how many days it take for a project to be fully funded. As a good indicator of donation coordination and donor dynamics, time it takes before funding can shed a light to how long a project gets all the support it needs."
   ]
  },
  {
   "cell_type": "code",
   "execution_count": null,
   "metadata": {
    "_kg_hide-input": true,
    "_uuid": "79de6cbc89e243540909aa11e80ca042bf27bc18",
    "collapsed": true,
    "scrolled": false
   },
   "outputs": [],
   "source": [
    "df = df_projects\n",
    "\n",
    "fig = plt.figure(figsize=(10,6))\n",
    "ax2 = fig.add_subplot(111)\n",
    "ax2.hist(df['delta-days-before-funded'].dropna(),100, color=sns.color_palette('viridis')[1]);\n",
    "\n",
    "#ax3 = fig.add_axes([0.55,0.5,0.4,0.4])\n",
    "#ax3.hist(df['Project Cost'].dropna(), 50, color=sns.color_palette('viridis')[0]);\n",
    "ax2.set_xlabel(\"Number of days before fully funded\")\n",
    "ax2.set_ylabel('Frequency')\n",
    "\n",
    "#ax3.set_xlabel(\"Project Cost ($)\")\n",
    "#ax3.set_ylabel('Frequency')\n",
    "ax2.set_title('Distribution of days it took before project funding', size = 18)\n",
    "plt.tight_layout()"
   ]
  },
  {
   "cell_type": "code",
   "execution_count": null,
   "metadata": {
    "_kg_hide-input": true,
    "_uuid": "bd6e9bbf4c6c7d8584892d9359224520b5876663",
    "collapsed": true,
    "scrolled": true
   },
   "outputs": [],
   "source": [
    "pd.DataFrame(df['delta-days-before-funded'].describe())"
   ]
  },
  {
   "cell_type": "markdown",
   "metadata": {
    "_uuid": "587d904fa0095028726894177662be3cba9a4e30"
   },
   "source": [
    "**Observations:** On average, it only takes about a month (~32.07 days) for a project to get fully funded. 75% of projects get funded within 50 days."
   ]
  },
  {
   "cell_type": "markdown",
   "metadata": {
    "_uuid": "bf9b3d0aa22d2cd378227b4d593eaf31a0387923"
   },
   "source": [
    "## Merging the Datasets\n",
    "Using the code below, the dataframes are merged using their unique identifier keys i.e. `Project ID`,`Donor ID`, `Teacher ID`, and `School ID`"
   ]
  },
  {
   "cell_type": "code",
   "execution_count": null,
   "metadata": {
    "_uuid": "64115ec54da6096a8550b8b63d4cf03b79ea01ce",
    "collapsed": true
   },
   "outputs": [],
   "source": [
    "# donations_resources = pd.merge(df_donations,df_resources, how='left',on='Project ID')\n",
    "# donations_resources_donors = pd.merge(donations_resources, df_donors, how='left', on='Donor ID')\n",
    "# donations_resources_donors_projects = pd.merge(donations_resources_donors, df_projects, how='left', on='Project ID')\n",
    "# donations_resources_donors_projects_teachers = pd.merge(donations_resources_donors_projects, df_teachers, how='left', on='Teacher ID')\n",
    "# merged_df = pd.merge(donations_resources_donors_projects_teachers, df_schools, how='left', on='School ID')\n",
    "# merged_df.head(1)\n",
    "# merged_df.sample(n = 50000, axis = 0).to_pickle('sampled_df.pickle')"
   ]
  },
  {
   "cell_type": "markdown",
   "metadata": {
    "_uuid": "9ffab4000521b7331b2df7f2477a7e6bf13ea6a7"
   },
   "source": [
    "## Data Wrangling"
   ]
  },
  {
   "cell_type": "markdown",
   "metadata": {
    "_uuid": "a8e095c1a4d5a33c9ca1c475c35d71da0442a98a"
   },
   "source": [
    "### Note: From this point, we will use the merged dataset run from our own computers and uploaded here on the kernel. Furthermore, for the purposes of demonstration, we will use a subset of 10,000 datapoints sampled from the given dataset."
   ]
  },
  {
   "cell_type": "code",
   "execution_count": 45,
   "metadata": {
    "_uuid": "0b4f42afd0a184fbfd017748805a4a136652ffd7",
    "collapsed": true
   },
   "outputs": [],
   "source": [
    "df = pd.read_csv(\"../input/sampled-dataset-50k/sampled_df_jojie.csv\").iloc[:,1:]\n",
    "df.shape"
   ]
  },
  {
   "cell_type": "code",
   "execution_count": 9,
   "metadata": {
    "_uuid": "1a8863623b897e5143d8a2044087aabdd29079c9",
    "collapsed": true
   },
   "outputs": [],
   "source": [
    "n_rows = 10000\n",
    "df_sample_1 = df.sample(n = n_rows, random_state = 123, axis = 0)\n",
    "df_sample_1.shape"
   ]
  },
  {
   "cell_type": "markdown",
   "metadata": {
    "_uuid": "595f6126ed0d50386d4f9e296009a53e211a5c05"
   },
   "source": [
    "#### Identifying useful and not so useful features\n",
    "To recognize latent groupings of projects, we omit ID features like  `Project ID`, `Donation ID`, `Donor ID`, `School ID` and `Teacher ID`, free-form answer features like `Project Title`, `Project Essay`, `Project Short Description`, `Project Short Description` and other features we assume to be not so useful for the purposes of simplicity.\n",
    "\n",
    "Next, we identified features that characterize either the  donor or the projects. Moreover, we also identified the categorical and datetime variables for later encoding. "
   ]
  },
  {
   "cell_type": "code",
   "execution_count": 8,
   "metadata": {
    "_uuid": "1c52feeb6aa53f8452ca30098878367748de1345",
    "collapsed": true
   },
   "outputs": [],
   "source": [
    "not_useful = ['Project ID', 'Donation ID','Donor ID',\n",
    "          'Donor Cart Sequence','Resource Vendor Name','Resource Item Name', \n",
    "              'Teacher Project Posted Sequence','School ID', 'Teacher ID',\n",
    "              'School Name', 'Donor Zip', 'School Zip', 'Unnamed: 0.1']\n",
    "\n",
    "date_feat = ['Donation Received Date','Project Posted Date', 'Project Expiration Date',\n",
    "        'Project Fully Funded Date','Teacher First Project Posted Date']\n",
    "\n",
    "donor_feat = ['Donation ID', 'Donor ID',\n",
    "       'Donation Included Optional Donation', 'Donation Amount',\n",
    "       'Donor Cart Sequence', 'Donation Received Date', \n",
    "       'Donor City', 'Donor State', 'Donor Is Teacher', 'Donor Zip']\n",
    "\n",
    "project_feat = ['Resource Item Name',\n",
    "       'Resource Quantity', 'Resource Unit Price', 'Resource Vendor Name',\n",
    "       'Project Type', 'Project Title', 'Project Essay',\n",
    "       'Project Short Description', 'Project Need Statement',\n",
    "       'Project Subject Category Tree', 'Project Subject Subcategory Tree',\n",
    "       'Project Grade Level Category', 'Project Resource Category',\n",
    "       'Project Cost', 'Project Posted Date', 'Project Expiration Date',\n",
    "       'Project Current Status', 'Project Fully Funded Date', 'Teacher Prefix',\n",
    "       'Teacher First Project Posted Date', 'School Name', 'School Metro Type',\n",
    "       'School Percentage Free Lunch', 'School State', 'School Zip',\n",
    "       'School City', 'School County', 'School District']\n",
    "\n",
    "cat_feat = ['Donor City', 'Donor State', 'Donor Is Teacher', 'Donor Zip',\n",
    "            'Project Type','Project Subject Category Tree', 'Donation Included Optional Donation',\n",
    "            'Project Subject Subcategory Tree',\n",
    "            'Project Grade Level Category', 'Project Resource Category',\n",
    "            'Project Current Status','Teacher Prefix','School Metro Type',\n",
    "            'School State', 'School Zip','School City','School County', 'School District']"
   ]
  },
  {
   "cell_type": "markdown",
   "metadata": {
    "_uuid": "d34d55a3e9cd423bac232f60744209b529d92bfb"
   },
   "source": [
    "#### Dropping not so useful features"
   ]
  },
  {
   "cell_type": "code",
   "execution_count": 10,
   "metadata": {
    "_uuid": "eaac63c95251fab3dbfbef0c3f49e65ab8e726cb",
    "collapsed": true
   },
   "outputs": [],
   "source": [
    "df_sample = df_sample_1.drop(labels=not_useful,axis = 1)"
   ]
  },
  {
   "cell_type": "code",
   "execution_count": 11,
   "metadata": {
    "_uuid": "e3cb1c05e93eb514cd9fe09ccd75be1ffd106161",
    "collapsed": true
   },
   "outputs": [],
   "source": [
    "cat_feat_new = []\n",
    "for x in df_sample.columns.tolist(): \n",
    "    if x in cat_feat:\n",
    "        cat_feat_new.append(x)"
   ]
  },
  {
   "cell_type": "markdown",
   "metadata": {
    "_uuid": "02f1af8e16ff39f7d1ecf7bdba9f3f712449a514"
   },
   "source": [
    "#### Dropping null values"
   ]
  },
  {
   "cell_type": "code",
   "execution_count": 12,
   "metadata": {
    "_uuid": "8bab3079fc7dbef139c3b0384026158133b6b1ec",
    "collapsed": true
   },
   "outputs": [],
   "source": [
    "df_sample.dropna(axis=0, inplace=True)\n",
    "#df_new[pd.isnull(df_new).any(axis=1)]"
   ]
  },
  {
   "cell_type": "code",
   "execution_count": 13,
   "metadata": {
    "_uuid": "282857a1d65d2b4a088cffda12273f6af210786a",
    "collapsed": true
   },
   "outputs": [],
   "source": [
    "checker1 = df_sample[df_sample['School State']=='Alaska'].index.tolist()\n",
    "checker2 = df_sample[df_sample['School Metro Type']=='town'].index.tolist()"
   ]
  },
  {
   "cell_type": "markdown",
   "metadata": {
    "_uuid": "03a5b4d809708a869e4ed36b2eddf9d1548b1acf"
   },
   "source": [
    "#### Encoding Labels for Categorical Variables"
   ]
  },
  {
   "cell_type": "code",
   "execution_count": 14,
   "metadata": {
    "_uuid": "75a08461c4f062acd621811882c996b635f8b303",
    "collapsed": true
   },
   "outputs": [],
   "source": [
    "from sklearn.preprocessing import LabelEncoder\n",
    "\n",
    "labels = {}\n",
    "le = LabelEncoder()\n",
    "\n",
    "for cat in cat_feat_new:\n",
    "    le.fit(df_sample[cat].values)\n",
    "    \n",
    "    if df_sample[cat].dtype == 'float64' or df_sample[cat].dtype == 'int':\n",
    "        df_sample[cat] = le.transform(df_sample[cat])\n",
    "    \n",
    "    else:\n",
    "        df_sample[cat] = le.transform(df_sample[cat].astype(str))\n",
    "    \n",
    "    labels[cat] = list(le.classes_)"
   ]
  },
  {
   "cell_type": "markdown",
   "metadata": {
    "_uuid": "ce49f781e827a982c2fc0b6837ae8e622d94bd13"
   },
   "source": [
    "#### Encoding Datetime Features "
   ]
  },
  {
   "cell_type": "code",
   "execution_count": 15,
   "metadata": {
    "_uuid": "7e9b16a8f6015ad13428cb81a213512374895ed6",
    "collapsed": true
   },
   "outputs": [],
   "source": [
    "df_sample['Project Posted Date'] = pd.to_datetime(\n",
    "    df_sample['Project Posted Date'], errors='coerce')\n",
    "\n",
    "df_sample['Project Expiration Date'] = pd.to_datetime(\n",
    "    df_sample['Project Expiration Date'], errors='coerce')\n",
    "\n",
    "df_sample['Project Fully Funded Date'] = pd.to_datetime(\n",
    "    df_sample['Project Fully Funded Date'], errors='coerce')\n",
    "\n",
    "df_sample['Donation Received Date'] = pd.to_datetime(\n",
    "    df_sample['Donation Received Date'], errors='coerce')\n",
    "\n",
    "df_sample['Teacher First Project Posted Date'] = pd.to_datetime(\n",
    "    df_sample['Teacher First Project Posted Date'], errors='coerce')"
   ]
  },
  {
   "cell_type": "code",
   "execution_count": 16,
   "metadata": {
    "_uuid": "99f08cefc18b9f93bb5f57c9232f63d7c83b779c",
    "collapsed": true
   },
   "outputs": [],
   "source": [
    "df_sample['delta-days-before-expiry'] = (df_sample['Project Expiration Date'] - df_sample['Project Posted Date']).dt.days\n",
    "df_sample['delta-days-before-funded'] = (df_sample['Project Fully Funded Date'] - df_sample['Project Posted Date']).dt.days\n",
    "df_sample['delta-days-before-donating'] = (df_sample['Donation Received Date'] - df_sample['Project Posted Date']).dt.days"
   ]
  },
  {
   "cell_type": "markdown",
   "metadata": {
    "_uuid": "c52c2283d17cc7bdc64c7dc091abf3a52de2c9dd"
   },
   "source": [
    "# Building the Recommendation System\n",
    "This section presents a model for a hybrid recommendation system utilizing both content-based filtering and demographic recommmendations. By definition, content-based filtering focus on properties of items and their similarities are determined by measuring the similiarity in their properties. On the other hand, a demographic recommender provides recommendations based on a demographic profile of the user. \n",
    "\n",
    "Borrowing terminologies from the field of data mining<sup>[4]</sup>, there are two components of the recommendation system in relation to the donorschoose.org challenge:\n",
    "1. **Item Profiles** (Projects) - given by the characteristics of the projects from which 'profiles' will be constructed\n",
    "2. **User Profiles** (Donors) - given by the demographics of the donors \n",
    "\n",
    "By making inferences from users' behaviors (donor donation and project preferences) and their demographic profiles, we develop a recommendation system potentially useful for the creation of targeted email campaigns to encourage repeat donations from first time donors. \n",
    "\n",
    "**Note:** For the purpose of simplicity, we opted to omit `Project Essay` and other free-form answer features of the projects and resorted to using the several project 'tags' features to discover item profiles. \n",
    "\n",
    "Construction of the aforementioned Recommendation System involves the following steps:\n",
    "1. Determining Item Profiles (using KMeans Clustering / unsupervised Machine Learning)\n",
    "2. Classifying New Unobserved Items (using Logistic Regression / supervised Machine Learning)\n",
    "3. Filtering User Profiles (using heuristics)\n",
    "\n",
    "Fed with information about the new projects, a web app containing the identified project clusters will churn out corresponding cluster of potential donors, to be filtered by location (`Donor State`), explicit support to donorschoose.org (`Donation Included Optional Donation`) and by donation timing (`Donation Received Date`)\n",
    "\n",
    "![donorschoose recommender](https://tjalba.files.wordpress.com/2018/06/screen-shot-2018-06-19-at-9-36-19-am.png?w=1000)"
   ]
  },
  {
   "cell_type": "markdown",
   "metadata": {
    "_uuid": "0bb0e7e9cde3319d315c46ef9c9fae04873c5d5d"
   },
   "source": [
    "## Identifying Item Profiles (Projects) - KMeans Clustering"
   ]
  },
  {
   "cell_type": "markdown",
   "metadata": {
    "_uuid": "7b6d0eff95aa2a30b8b41479cc2c5a2ba1f3e442"
   },
   "source": [
    "#### Creating the feature vector for previous projects for KMeans Clustering"
   ]
  },
  {
   "cell_type": "code",
   "execution_count": 161,
   "metadata": {
    "_uuid": "f7295236d74f128415007a33a491ee83aab7c8dc",
    "collapsed": true
   },
   "outputs": [],
   "source": [
    "X = df_sample[['Resource Quantity', 'Resource Unit Price','Project Type',\n",
    "       'Project Subject Category Tree', 'Project Subject Subcategory Tree',\n",
    "       'Project Grade Level Category', 'Project Resource Category',\n",
    "       'Project Cost', 'Teacher Prefix',\n",
    "       'School Metro Type','School Percentage Free Lunch', 'School State', 'School City',\n",
    "       'School County', 'School District']]"
   ]
  },
  {
   "cell_type": "code",
   "execution_count": 162,
   "metadata": {
    "_uuid": "f51867b6b8d615dd4bbe4c28414a6948bd6b948e",
    "collapsed": true
   },
   "outputs": [],
   "source": [
    "X.shape"
   ]
  },
  {
   "cell_type": "markdown",
   "metadata": {
    "_uuid": "d6ab900442ef69b0cdc1978cf080b14845f42c0c"
   },
   "source": [
    "#### Initial KMeans Clustering with number of neighbors set to 5"
   ]
  },
  {
   "cell_type": "code",
   "execution_count": 163,
   "metadata": {
    "_uuid": "d12a1650b475aab89ca49eda6d4ef106dad568c2",
    "collapsed": true,
    "scrolled": false
   },
   "outputs": [],
   "source": [
    "from sklearn.cluster import KMeans\n",
    "kmeans = KMeans(n_clusters = 5).fit(X)\n",
    "plt.figure(figsize=(10,6))\n",
    "for i in range(len(kmeans.cluster_centers_)):\n",
    "    plt.plot(kmeans.cluster_centers_[i][0],kmeans.cluster_centers_[i][1],'x', markersize=12, label=i);\n",
    "    plt.xticks([], [])\n",
    "    plt.yticks([], [])\n",
    "    plt.legend()\n",
    "plt.title('KMeans Clustering (n_clusters = 5)');"
   ]
  },
  {
   "cell_type": "markdown",
   "metadata": {
    "_uuid": "d92b36a00a21099aa9566d90cf2ded1338cfbab3"
   },
   "source": [
    "#### Finding the optimal number of clusters\n",
    "We find that the optimal number of clusters is 4. We used two internal validation methods to find the optimal number of clusters: **sum of squares of the distances** of each datapoint in a cluster from the centroid is small (SS), and the **Silhouette** value. The optimal number of clusters is the number at which SS is small and Silhouette value is closest to 1. Plotting these two validation measures vs the number of clusters k, we find that the optimal trade off between the two validation measures is at k = 4."
   ]
  },
  {
   "cell_type": "code",
   "execution_count": 164,
   "metadata": {
    "_uuid": "8c69461d307a9ee7824715f3658ce5beaaebc241",
    "collapsed": true
   },
   "outputs": [],
   "source": [
    "from sklearn.metrics import silhouette_score\n",
    "sse = []\n",
    "silhouette = []\n",
    "krange = range(2, 15)\n",
    "plt.figure(figsize=(10,6))\n",
    "for k in krange:\n",
    "    kmeans = KMeans(n_clusters = k).fit(X)\n",
    "    sse.append(kmeans.inertia_)\n",
    "    \n",
    "    labels = kmeans.predict(X)\n",
    "    sl = silhouette_score(X, labels)\n",
    "    silhouette.append(sl)\n",
    "    \n",
    "plt.plot(krange, sse, label='SS', c='orange')\n",
    "lines, labels = plt.gca().get_legend_handles_labels()\n",
    "plt.twinx()\n",
    "plt.plot(krange, silhouette, label = 'Silhouette', c='blue')\n",
    "lines2, labels2 = plt.gca().get_legend_handles_labels()\n",
    "plt.legend(lines+lines2, labels+labels2)\n",
    "plt.title(\"Validation Measures per k Clusters\")\n",
    "plt.show()\n"
   ]
  },
  {
   "cell_type": "markdown",
   "metadata": {
    "_uuid": "304c1b63bfde24aecffc355cf7152b432898849b"
   },
   "source": [
    "#### Plotting the first two components of the clusters\n",
    "Plotting the first two components of the clusters on a 2D plot."
   ]
  },
  {
   "cell_type": "code",
   "execution_count": 165,
   "metadata": {
    "_uuid": "f5f105d5bdffdb2035a77b2156e5920064de30ef",
    "collapsed": true,
    "scrolled": true
   },
   "outputs": [],
   "source": [
    "n_clusters = 4\n",
    "kmeans = KMeans(n_clusters = n_clusters).fit(X)\n",
    "plt.figure(figsize=(10,6))\n",
    "for i in range(len(kmeans.cluster_centers_)):\n",
    "    plt.plot(kmeans.cluster_centers_[i][0],kmeans.cluster_centers_[i][1],'x', markersize=12, label=i);\n",
    "    plt.xticks([], [])\n",
    "    plt.yticks([], [])\n",
    "    plt.legend()\n",
    "plt.title('KMeans Clustering (n_clusters = {})'.format(n_clusters));"
   ]
  },
  {
   "cell_type": "markdown",
   "metadata": {
    "_uuid": "53a07f15142f696f87943fbbccc4f79dd15eb784"
   },
   "source": [
    "#### Storing Donor IDs per Cluster "
   ]
  },
  {
   "cell_type": "code",
   "execution_count": 166,
   "metadata": {
    "_uuid": "8687a19d0354676ee53c0209503e5d1bf7fcb3e5",
    "collapsed": true
   },
   "outputs": [],
   "source": [
    "clusters_list = {}\n",
    "for c in range(n_clusters):\n",
    "    clusters_list[c] = df.iloc[X.iloc[kmeans.labels_ == c, :].index]['Donor ID']"
   ]
  },
  {
   "cell_type": "markdown",
   "metadata": {
    "_uuid": "40ba4f3870588e8e9a7f10d2b09cd6dba2d91840"
   },
   "source": [
    "#### Labeling donors based on project clusters"
   ]
  },
  {
   "cell_type": "code",
   "execution_count": 167,
   "metadata": {
    "_uuid": "65149438c98a86fa2696a9573aea1bd39416c9be",
    "collapsed": true
   },
   "outputs": [],
   "source": [
    "X['Label'] = kmeans.labels_"
   ]
  },
  {
   "cell_type": "code",
   "execution_count": 168,
   "metadata": {
    "_uuid": "cf514e96877f7a0f67939c32875ea9f7585ea65a",
    "collapsed": true
   },
   "outputs": [],
   "source": [
    "X.shape"
   ]
  },
  {
   "cell_type": "code",
   "execution_count": 169,
   "metadata": {
    "_uuid": "b67d9282a06b0e4152988d8b6a4615d35508f47b",
    "collapsed": true
   },
   "outputs": [],
   "source": [
    "X.head()"
   ]
  },
  {
   "cell_type": "code",
   "execution_count": 170,
   "metadata": {
    "_uuid": "34bcaaf0102b841f9e2993680cadf9e6738d691e",
    "collapsed": true
   },
   "outputs": [],
   "source": [
    "X.tail()"
   ]
  },
  {
   "cell_type": "markdown",
   "metadata": {
    "_uuid": "8db41cd96bac8e3371943c77d3a8f4a50eb3eb45"
   },
   "source": [
    "#### Visualizing the Clusters"
   ]
  },
  {
   "cell_type": "code",
   "execution_count": 171,
   "metadata": {
    "_uuid": "a6661f62fbaf7e067adeb57ddd12b5ddf353999e",
    "collapsed": true,
    "scrolled": false
   },
   "outputs": [],
   "source": [
    "from sklearn.decomposition import PCA\n",
    "pca = PCA(n_components = 3).fit_transform(X)\n",
    "plt.figure(figsize=(10,6))\n",
    "plt.scatter(pca[:,0],pca[:,1], c = kmeans.labels_);"
   ]
  },
  {
   "cell_type": "markdown",
   "metadata": {
    "_uuid": "e93be65affdc5d0da078243c1f1300c1664f5c12"
   },
   "source": [
    "## Classifying New Unobserved Items (New Projects) - Logistic Regression"
   ]
  },
  {
   "cell_type": "code",
   "execution_count": 172,
   "metadata": {
    "_uuid": "c00146367bb227ae9658c21a2ddb046676c4826b",
    "collapsed": true
   },
   "outputs": [],
   "source": [
    "from sklearn.linear_model import LogisticRegression\n",
    "from sklearn.neighbors import KNeighborsClassifier\n",
    "from sklearn.neighbors import KNeighborsRegressor\n",
    "from sklearn.svm import LinearSVC\n",
    "from sklearn.model_selection import train_test_split\n",
    "pd.options.display.float_format = '{:,.2g}'.format\n",
    "from collections import Counter\n",
    "from sklearn.model_selection import cross_val_score\n",
    "from sklearn.model_selection import train_test_split"
   ]
  },
  {
   "cell_type": "code",
   "execution_count": 173,
   "metadata": {
    "_uuid": "316d10adddf1ea0284f639216ab3a6b5bb8192e5",
    "collapsed": true
   },
   "outputs": [],
   "source": [
    "X_ = X.drop('Label', axis = 1)\n",
    "y_ = X['Label']"
   ]
  },
  {
   "cell_type": "code",
   "execution_count": 174,
   "metadata": {
    "_kg_hide-input": true,
    "_uuid": "78fe3eb8988c87f1b71020273267c9b58f0333d6",
    "collapsed": true
   },
   "outputs": [],
   "source": [
    "def ml_class(feature, target, ml_type='knn_class', show_PCC=False,\n",
    "             param_range=range(1, 30), seed_settings=range(0, 30),\n",
    "             plot=False, report=True, penalty='l2'):\n",
    "    \"\"\"\n",
    "    Plot accuracy vs parameter for test and training data. Print\n",
    "    maximum accuracy and corresponding parameter value. Print number of trials.\n",
    "\n",
    "    Inputs\n",
    "    ======\n",
    "    feature: Dataframe of features\n",
    "    target: Series of target values\n",
    "    show_PCC: Boolean. will show PCC on plot if True\n",
    "    param_range: Range of values for parameters\n",
    "    seed_settings: Range of seed settings to run\n",
    "    plt: Boolean. Will show plot if True\n",
    "    report: Boolean. Will show report if True\n",
    "    penalty: String either l1 for L1 norm or l2 for L2 norm\n",
    "\n",
    "    Outputs\n",
    "    =======\n",
    "    Plot of accuracy vs parameter for test and training data\n",
    "    Report showing number of maximum accuracy, optimal parameters, PCC, and\n",
    "        no. of iterations\n",
    "    \"\"\"\n",
    "\n",
    "    train_acc = []\n",
    "    test_acc = []\n",
    "\n",
    "    # Initiate counter for number of trials\n",
    "    iterations = 0\n",
    "\n",
    "    # create an array of cols: parameters and rows: seeds\n",
    "    for seed in seed_settings:\n",
    "\n",
    "        # count one trial\n",
    "        iterations += 1\n",
    "\n",
    "        # split data into test and training sets\n",
    "        X_train, X_test, y_train, y_test = train_test_split(feature,\n",
    "                                                            target,\n",
    "                                                            random_state=seed)\n",
    "        train = []\n",
    "        test = []\n",
    "\n",
    "        # make a list of accuracies for different parameters\n",
    "        for param in param_range:\n",
    "            # build the model\n",
    "            if ml_type == 'knn_class':\n",
    "                clf = KNeighborsClassifier(n_neighbors=param)\n",
    "\n",
    "            elif ml_type == 'log_reg':\n",
    "                clf = LogisticRegression(C=param, penalty=penalty)\n",
    "\n",
    "            elif ml_type == 'svc':\n",
    "                clf = LinearSVC(C=param, penalty=penalty, dual=False)\n",
    "\n",
    "            clf.fit(X_train, y_train)\n",
    "\n",
    "            # record training set accuracy\n",
    "            train.append(clf.score(X_train, y_train))\n",
    "            # record generalization accuracy\n",
    "            test.append(clf.score(X_test, y_test))\n",
    "\n",
    "        # append the list to _acc arrays\n",
    "        train_acc.append(train)\n",
    "        test_acc.append(test)\n",
    "\n",
    "    # compute mean and error across columns\n",
    "    train_all = np.mean(train_acc, axis=0)\n",
    "    test_all = np.mean(test_acc, axis=0)\n",
    "\n",
    "    # compute standard deviation\n",
    "    var_train = np.var(train_acc, axis=0)\n",
    "    var_test = np.var(test_acc, axis=0)\n",
    "\n",
    "    # compute pcc\n",
    "    state_counts = Counter(target)\n",
    "    df_state = pd.DataFrame.from_dict(state_counts, orient='index')\n",
    "    num = (df_state[0] / df_state[0].sum())**2\n",
    "    pcc = 1.25 * num.sum()\n",
    "\n",
    "    if plot == True:\n",
    "        plt.figure(figsize=(10,6))\n",
    "        # plot train and errors and standard devs\n",
    "        plt.plot(param_range, train_all, c='b',\n",
    "                 label=\"training set\", marker='.')\n",
    "        plt.fill_between(param_range,\n",
    "                         train_all + var_train,\n",
    "                         train_all - var_train,\n",
    "                         color='b', alpha=0.1)\n",
    "\n",
    "        # plot test and errors and standard devs\n",
    "        plt.plot(param_range, test_all, c='r', label=\"test set\", marker='.')\n",
    "        plt.fill_between(param_range,\n",
    "                         test_all + var_test,\n",
    "                         test_all - var_test,\n",
    "                         color='r', alpha=0.1)\n",
    "\n",
    "        # plot pcc line\n",
    "        if show_PCC == True:\n",
    "            plt.plot(param_range, [pcc] * len(param_range),\n",
    "                     c='tab:gray', label=\"pcc\", linestyle='--')\n",
    "\n",
    "        plt.xlabel('Parameter Value')\n",
    "        plt.ylabel('Accuracy')\n",
    "        plt.title(ml_type + \": Accuracy vs Parameter Value\")\n",
    "        plt.legend(loc=0)\n",
    "\n",
    "        plt.tight_layout()\n",
    "        plt.show()\n",
    "\n",
    "    max_inds = np.argmax(test_all)\n",
    "    acc_max = np.amax(test_all)\n",
    "    param_max = (param_range)[max_inds]\n",
    "\n",
    "    if report == True:\n",
    "        print('Report:')\n",
    "        print('=======')\n",
    "        print(\"Max average accuracy: {}\".format(\n",
    "            np.round(acc_max, 4)))\n",
    "        print(\"Var of accuracy at optimal parameter: {0:.4f}\".format(\n",
    "            var_test[max_inds]))\n",
    "        print(\"Optimal parameter: {0:.4f}\".format(param_max))\n",
    "        if ml_type != \"knn_class\":\n",
    "            print(\"Regularization: \", penalty)\n",
    "        print('1.25 x PCC: {0:.4f}'.format(pcc))\n",
    "        print('Total iterations: {}'.format(iterations))\n",
    "        \n",
    "\n",
    "    # return maximum accuracy and corresponding parameter value\n",
    "    return np.round(acc_max, 4), param_max  # best_feat"
   ]
  },
  {
   "cell_type": "markdown",
   "metadata": {
    "_uuid": "394a3924bff13ccfc6d5cb8d8f973d6b874bd95f"
   },
   "source": [
    "Logistic regression was able to classify new projects into the identified clusters with 95-96% accuracy."
   ]
  },
  {
   "cell_type": "code",
   "execution_count": 175,
   "metadata": {
    "_uuid": "75cc38cc839651425fe932f5f90c4713d110bce1",
    "collapsed": true,
    "scrolled": false
   },
   "outputs": [],
   "source": [
    "C = [1e-3,0.1, 0.75, 1, 5, 10]\n",
    "\n",
    "acc_max, param_max = ml_class(X_, y_, ml_type='log_reg', show_PCC=True,\n",
    "                            param_range=C, seed_settings=range(0, 20),\n",
    "                            plot=True, report=True, penalty='l1');"
   ]
  },
  {
   "cell_type": "markdown",
   "metadata": {
    "_uuid": "469cba35f1f7c1fb8b5b7f921d2aa6f55185f542",
    "collapsed": true
   },
   "source": [
    "Using the optimal parameter identified above, we find the values of the coefficients for each feature."
   ]
  },
  {
   "cell_type": "code",
   "execution_count": 179,
   "metadata": {
    "_uuid": "fea0b0b35c82f39b3c0368a9e1b17c7f7dc7f983",
    "collapsed": true
   },
   "outputs": [],
   "source": [
    "X_train, X_test, y_train, y_test = train_test_split(X_, y_)\n",
    "clf = LogisticRegression(C=param_max, penalty='l1')\n",
    "clf.fit(X_train, y_train)\n",
    "\n",
    "plt.figure(figsize=(10,6))\n",
    "for i in range(n_clusters):\n",
    "    sorted_i = np.argsort(abs(clf.coef_[i]))[::-1]\n",
    "    \n",
    "    plt.plot(X_.columns[sorted_i], clf.coef_[i][sorted_i], marker='o', linestyle='none', linewidth=1, label = \"Cluster \"+str(i))\n",
    "    plt.bar(X_.columns[sorted_i], clf.coef_[i][sorted_i], alpha=0.3, width=0.1)\n",
    "    plt.legend()\n",
    "    plt.xticks(rotation=90)\n",
    "    plt.ylabel(\"Coefficient\")\n",
    "    plt.title(\"Logistic Regression Feature Coefficients per Cluster\")\n",
    "plt.show()"
   ]
  },
  {
   "cell_type": "markdown",
   "metadata": {
    "_uuid": "f090b31d58926105665ae38dd5b7674f8b5a0e7c"
   },
   "source": [
    "## Filtering User Profiles "
   ]
  },
  {
   "cell_type": "code",
   "execution_count": 180,
   "metadata": {
    "_uuid": "71ab228cf495fcadd9005bdac3ccb833bcf9b6a9",
    "collapsed": true
   },
   "outputs": [],
   "source": [
    "df['Project Posted Date'] = pd.to_datetime(\n",
    "    df['Project Posted Date'], errors='coerce')\n",
    "\n",
    "df['Project Expiration Date'] = pd.to_datetime(\n",
    "    df['Project Expiration Date'], errors='coerce')\n",
    "\n",
    "df['Project Fully Funded Date'] = pd.to_datetime(\n",
    "    df['Project Fully Funded Date'], errors='coerce')\n",
    "\n",
    "df['Donation Received Date'] = pd.to_datetime(\n",
    "    df['Donation Received Date'], errors='coerce')\n",
    "\n",
    "df['Teacher First Project Posted Date'] = pd.to_datetime(\n",
    "    df['Teacher First Project Posted Date'], errors='coerce')\n",
    "\n",
    "df['delta-days-before-expiry'] = (df['Project Expiration Date'] - df['Project Posted Date']).dt.days\n",
    "df['delta-days-before-funded'] = (df['Project Fully Funded Date'] - df['Project Posted Date']).dt.days\n",
    "df['delta-days-before-donating'] = (df['Donation Received Date'] - df['Project Posted Date']).dt.days"
   ]
  },
  {
   "cell_type": "markdown",
   "metadata": {
    "_uuid": "9d6908227ce3ebc72b98eba9ffab6c532db46a18"
   },
   "source": [
    "#### Storing Donor ID and other Donor information in dictionaries, by clusters\n",
    "After clustering, the Donor ID of Donors who previously donated to projects in each of the identified clusters are stored in dictionaries. Conveniently, these clusters of Donor IDs can be easily called later on. Furthermore, to take into account proximity, organizational loyalty, and donation timing, Donor ID filtered on these features are also stored in individual dictionaries.\n",
    "1. **Proximity/Location** - `clusters_by_state`\n",
    "2. **Organizational Loyalty** - `clusters_by_org_loyalty`\n",
    "3. **Donation Timing** - `clusters_by_early_donors` and `clusters_by_late_donors`"
   ]
  },
  {
   "cell_type": "code",
   "execution_count": 181,
   "metadata": {
    "_uuid": "3ff01182505c142a335d2ae2820665ef792809ee",
    "collapsed": true
   },
   "outputs": [],
   "source": [
    "clusters_by_state = {}\n",
    "clusters_by_org_loyalty = {}\n",
    "clusters_by_early_donors = {}\n",
    "clusters_by_late_donors = {}\n",
    "clusters_by_all = {}\n",
    "\n",
    "for c in range(len(clusters_list)):\n",
    "    clusters_by_state[c] = df.iloc[clusters_list[c].index][['Donor ID','Donor State']]\n",
    "    clusters_by_org_loyalty[c] = df.iloc[clusters_list[c].index][['Donor ID','Donation Included Optional Donation']]\n",
    "    clusters_by_early_donors[c] = df.iloc[clusters_list[c].index][['Donor ID','delta-days-before-donating']][\\\n",
    "    df['delta-days-before-donating']<30]\n",
    "    clusters_by_late_donors[c] = df.iloc[clusters_list[c].index][['Donor ID','delta-days-before-donating']][\\\n",
    "    df['delta-days-before-donating']>30]\n",
    "    clusters_by_all[c] = df.iloc[clusters_list[c].index][['Donor ID','Donor State','Donation Included Optional Donation','delta-days-before-donating']]"
   ]
  },
  {
   "cell_type": "markdown",
   "metadata": {
    "_uuid": "a1bd15c828ced90bdf7a83bae9d2d14c9ca66ca2"
   },
   "source": [
    "# Demonstration\n",
    "Now, to demonstrate how this recommender system would work when presented a new project, we have a function `donors_to_recommend` to churn out Donor ID's of potential donors based on the predicted class or cluster of the new project.  A new project to be recommended to donors have the features outlined below."
   ]
  },
  {
   "cell_type": "code",
   "execution_count": 182,
   "metadata": {
    "_uuid": "e6ccd881ede3a4c9395191b33c867df72531b712",
    "collapsed": true
   },
   "outputs": [],
   "source": [
    "import pandas as pd\n",
    "X_test = pd.DataFrame(columns=['Resource Quantity', 'Resource Unit Price','Project Type',\n",
    "       'Project Subject Category Tree', 'Project Subject Subcategory Tree',\n",
    "       'Project Grade Level Category', 'Project Resource Category',\n",
    "       'Project Cost', 'Teacher Prefix',\n",
    "       'School Metro Type','School Percentage Free Lunch', 'School State', 'School City',\n",
    "       'School County', 'School District'])\n",
    "\n",
    "X_test['Resource Quantity'] = [10]\n",
    "X_test['Resource Unit Price'] = [10]\n",
    "X_test['Project Type'] = ['Teacher-Led']\n",
    "X_test['Project Subject Category Tree'] = ['Health & Sports']\n",
    "X_test['Project Subject Subcategory Tree'] = ['Gym & Fitness, Health & Wellness']\n",
    "X_test['Project Grade Level Category'] = ['Grades 9-12']\n",
    "X_test['Project Resource Category'] = ['Sports & Exercise Equipment']\n",
    "X_test['Project Cost'] = [53.3]\n",
    "X_test['Teacher Prefix'] = ['Mrs.']\n",
    "X_test['School Metro Type'] = ['suburban']\n",
    "X_test['School Percentage Free Lunch'] = [65]\n",
    "X_test['School State'] = ['New York']\n",
    "X_test['School City'] = ['New York City']\n",
    "X_test['School County'] = ['Queens']\n",
    "X_test['School District'] = ['New York Dept Of Education']\n",
    "temp = X_test\n",
    "temp.T"
   ]
  },
  {
   "cell_type": "code",
   "execution_count": 187,
   "metadata": {
    "_uuid": "1ef90db9b3b863eb882a59922343b7173c039359",
    "collapsed": true
   },
   "outputs": [],
   "source": [
    "def donors_to_recommend(X, ind_ = 0, cluster_disp = False):\n",
    "    cat_feat = [\n",
    "            'Project Type','Project Subject Category Tree',\n",
    "            'Project Subject Subcategory Tree',\n",
    "            'Project Grade Level Category', 'Project Resource Category',\n",
    "            'Teacher Prefix','School Metro Type',\n",
    "            'School State','School City','School County', 'School District']\n",
    "    \n",
    "    X_test_transformed = X_test.copy()\n",
    "\n",
    "    le = LabelEncoder()\n",
    "\n",
    "    for cat in cat_feat:\n",
    "        le.fit(X_test_transformed[cat].values)\n",
    "    \n",
    "        if X_test_transformed[cat].dtype == 'float64' or X_test_transformed[cat].dtype == 'int':\n",
    "            X_test_transformed[cat] = le.transform(X_test_transformed[cat])\n",
    "\n",
    "        else:\n",
    "#             print(cat)\n",
    "#             print(X_test_transformed[cat].dtype)\n",
    "#             print(X_test_transformed[cat].values.astype(str))\n",
    "            X_test_transformed[cat] = le.transform(X_test_transformed[cat].astype(str))\n",
    "    \n",
    "    y = clf.predict(X_test_transformed)\n",
    "    if cluster_disp == True:\n",
    "        print(\"Cluster Num\", y[ind_])\n",
    "    else:\n",
    "        pass\n",
    "    \n",
    "    return clusters_by_all[y[ind_]]              "
   ]
  },
  {
   "cell_type": "markdown",
   "metadata": {
    "_uuid": "a2e2ec0fa9d2f9e52f313d8114c7b4036dba1659"
   },
   "source": [
    "By encoding the categorical variables the same way as the initial input dataset, the same optimized logistic regression model can reliably predict the class by which will be the basis of the cluster of Donors the project will be recommended to."
   ]
  },
  {
   "cell_type": "code",
   "execution_count": 188,
   "metadata": {
    "_uuid": "7f18aa257b88edbc7dda10ba89b34d13a26ac411",
    "collapsed": true
   },
   "outputs": [],
   "source": [
    "donors_pred = donors_to_recommend(X_test, ind_ = 0, cluster_disp = True)\n",
    "display(donors_pred.head())\n",
    "print(\"No. of donors returned:\", len(donors_pred))"
   ]
  },
  {
   "cell_type": "markdown",
   "metadata": {
    "_uuid": "45669188abefcd1a39e3cfd2abfda36e29f92acd"
   },
   "source": [
    "# Sample Web App\n",
    "We developed an interactive website application which takes in information about new projects and runs the classifier to determine which cluster of donors it would recommend the project to. The app is accessible through this link: https://cyntwikip-choosedonors.herokuapp.com/\n",
    "\n",
    "\n",
    "![Recommender API](https://tjalba.files.wordpress.com/2018/06/screen-shot-2018-06-21-at-12-06-09-am.png?w=720)"
   ]
  },
  {
   "cell_type": "markdown",
   "metadata": {
    "_uuid": "9813d6b3667d251ad3968f7a4a4dc9a325676c70",
    "collapsed": true
   },
   "source": [
    "# Summary\n",
    "With the aim to increase volume of donations and encourage first time donors to donate again, DonorsChoose.org faces a challenge to build a recommendation engine that would allow for previous donors to easily find and support new projects that inspires them the most. To build the recommender, first, a clustering algorithm (KMeans with k = 4) partitioned the projects on its characteristic features to develop item profiles. Next, a classifier (logistic regression with L1 regularization) is developed to predict clusters of new unobserved projects. Finally, the designed recommendation system will churn out Donor IDs and information about the donors corresponding to the particular cluster. In the experiment above, we have shown how the recommender would identify potential donors once presented a never seen before project. Finally, this recommendation system can be used to run an email marketing campaign making identification of target segment more efficient."
   ]
  },
  {
   "cell_type": "markdown",
   "metadata": {
    "_uuid": "6045c6c3d20d286db7345f5b50e5561ffe51e2fa"
   },
   "source": [
    "# References\n",
    "<sup> [1] </sup> Breeze, B. (2013) How donors choose charities: the role of personal taste and experiences in giving decisions. *Voluntary Sector Review*, *Vol. 4*, (2), pp. 165-183  \n",
    "<sup> [2] </sup> Althoff, T and Leskovec, J (2015) Donor Retention in Online Crowdfunding Communities: A Case Study of Donorschoose.org. *ACM*  \n",
    "<sup> [3] </sup> Salomon, J, et.al (2015) Don’t Wait! How Timing Affects Coordination of Crowdfunding Donations. *ACM*  \n",
    "<sup> [4] </sup> Rajaman, Leskovec, and Ullman (2014) Chapter 9 Recommendation Systems in *Mining of Massive Datasets* (307-340) Palo Alto, Cali., USA\n",
    "<br><sup>[5]</sup>Traag, Vincent (2016) Complex Contagion of Campaign Donations. *Public Library of Science*"
   ]
  },
  {
   "cell_type": "markdown",
   "metadata": {
    "_uuid": "a86b2d9d6cb3ee8ff3ea4bb7503c3bd47ee9f149"
   },
   "source": [
    "# Collaborators\n",
    "Tristan Joshua Alba <br>\n",
    "Prince Joseph Erneszer Javier <br>\n",
    "Jude Michael Teves"
   ]
  },
  {
   "cell_type": "markdown",
   "metadata": {
    "_uuid": "b31a0799305c9730a30f2a67b800980b2f7b78f3"
   },
   "source": [
    "# Acknowledgements\n",
    "We would like to acknowledge our mentors Dr. Christopher Monterola and Dr. Erika Fille Legara for their invaluable inputs on how to tackle this problem. We would also like to thank Dr. Christian Alis and Eduardo David for giving us access to computing hardware and also for giving their inputs. We thank Erwin Obias and Bryan Damasco for their support on this project."
   ]
  },
  {
   "cell_type": "code",
   "execution_count": null,
   "metadata": {
    "_uuid": "11e25ffe56a6cac1b467da0640df280da6c69b59",
    "collapsed": true
   },
   "outputs": [],
   "source": []
  }
 ],
 "metadata": {
  "kernelspec": {
   "display_name": "Python 3",
   "language": "python",
   "name": "python3"
  },
  "language_info": {
   "codemirror_mode": {
    "name": "ipython",
    "version": 3
   },
   "file_extension": ".py",
   "mimetype": "text/x-python",
   "name": "python",
   "nbconvert_exporter": "python",
   "pygments_lexer": "ipython3",
   "version": "3.6.4"
  }
 },
 "nbformat": 4,
 "nbformat_minor": 1
}
