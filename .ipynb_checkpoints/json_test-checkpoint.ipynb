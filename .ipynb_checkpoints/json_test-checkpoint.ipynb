{
 "cells": [
  {
   "cell_type": "markdown",
   "metadata": {},
   "source": [
    "Create an input"
   ]
  },
  {
   "cell_type": "code",
   "execution_count": 1,
   "metadata": {},
   "outputs": [],
   "source": [
    "import json"
   ]
  },
  {
   "cell_type": "code",
   "execution_count": 35,
   "metadata": {},
   "outputs": [],
   "source": [
    "data = [10,10,'Teacher-Led','Health & Sports','Gym & Fitness, Health & Wellness',\\\n",
    "        'Grades 9-12','Sports & Exercise Equipment',53.3,'Fully Funded','Mrs.',\\\n",
    "        'suburban',65,'New York','New York City','Queens','New York Dept Of Education']\n",
    "d = {'input':data}\n",
    "d_json = json.dumps(d)"
   ]
  },
  {
   "cell_type": "code",
   "execution_count": 73,
   "metadata": {},
   "outputs": [],
   "source": [
    "# type(json.loads(d_json))\n",
    "# json1_data = json.loads(d_json)['input']\n",
    "# json1_data"
   ]
  },
  {
   "cell_type": "code",
   "execution_count": 36,
   "metadata": {},
   "outputs": [
    {
     "data": {
      "text/plain": [
       "'{\"input\": [10, 10, \"Teacher-Led\", \"Health & Sports\", \"Gym & Fitness, Health & Wellness\", \"Grades 9-12\", \"Sports & Exercise Equipment\", 53.3, \"Fully Funded\", \"Mrs.\", \"suburban\", 65, \"New York\", \"New York City\", \"Queens\", \"New York Dept Of Education\"]}'"
      ]
     },
     "execution_count": 36,
     "metadata": {},
     "output_type": "execute_result"
    }
   ],
   "source": [
    "d_json"
   ]
  },
  {
   "cell_type": "markdown",
   "metadata": {},
   "source": [
    "Fire post request to API. Status code of 200 means success"
   ]
  },
  {
   "cell_type": "code",
   "execution_count": 69,
   "metadata": {},
   "outputs": [
    {
     "data": {
      "text/plain": [
       "200"
      ]
     },
     "execution_count": 69,
     "metadata": {},
     "output_type": "execute_result"
    }
   ],
   "source": [
    "import requests\n",
    "r = requests.post('http://127.0.0.1:5000/api/kaggle/project/v2', json=d_json)\n",
    "r.status_code"
   ]
  },
  {
   "cell_type": "code",
   "execution_count": 72,
   "metadata": {},
   "outputs": [],
   "source": [
    "# r.content"
   ]
  },
  {
   "cell_type": "code",
   "execution_count": 84,
   "metadata": {},
   "outputs": [
    {
     "name": "stdout",
     "output_type": "stream",
     "text": [
      "The input is classified as Cluster 1\n",
      "\n",
      "Donors:\n"
     ]
    },
    {
     "data": {
      "text/plain": [
       "0    794d7b0af5fbff40e6902537f628e466\n",
       "1    15e8f0dcf8c36fa2f786c741f81bab53\n",
       "2    413e2b1a73beef60d0f370bc44403592\n",
       "3    73a51b046a3208407d1290a0ab8f7e4f\n",
       "4    7bd89b230404c656f3451ae445b3c0da\n",
       "dtype: object"
      ]
     },
     "metadata": {},
     "output_type": "display_data"
    }
   ],
   "source": [
    "import pandas as pd\n",
    "print('The input is classified as Cluster {}'.format(r.json()['cluster']))\n",
    "ser_out = pd.Series(r.json()['donors'])\n",
    "print('\\nDonors:')\n",
    "display(ser_out.head())"
   ]
  },
  {
   "cell_type": "code",
   "execution_count": null,
   "metadata": {},
   "outputs": [],
   "source": []
  }
 ],
 "metadata": {
  "kernelspec": {
   "display_name": "Python 3",
   "language": "python",
   "name": "python3"
  },
  "language_info": {
   "codemirror_mode": {
    "name": "ipython",
    "version": 3
   },
   "file_extension": ".py",
   "mimetype": "text/x-python",
   "name": "python",
   "nbconvert_exporter": "python",
   "pygments_lexer": "ipython3",
   "version": "3.6.4"
  }
 },
 "nbformat": 4,
 "nbformat_minor": 2
}
