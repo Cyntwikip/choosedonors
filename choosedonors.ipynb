{
 "cells": [
  {
   "cell_type": "code",
   "execution_count": 1,
   "metadata": {},
   "outputs": [],
   "source": [
    "import pandas as pd\n",
    "import numpy as np\n",
    "# import sklearn"
   ]
  },
  {
   "cell_type": "code",
   "execution_count": 6,
   "metadata": {},
   "outputs": [],
   "source": [
    "df = pd.read_csv('consolidated_df_sampled.csv').iloc[:,1:]"
   ]
  },
  {
   "cell_type": "code",
   "execution_count": 5,
   "metadata": {},
   "outputs": [
    {
     "data": {
      "text/plain": [
       "Index(['Unnamed: 0', 'Project ID', 'Donation ID', 'Donor ID',\n",
       "       'Donation Included Optional Donation', 'Donation Amount',\n",
       "       'Donor Cart Sequence', 'Donation Received Date', 'Resource Item Name',\n",
       "       'Resource Quantity', 'Resource Unit Price', 'Resource Vendor Name',\n",
       "       'Donor City', 'Donor State', 'Donor Is Teacher', 'Donor Zip',\n",
       "       'School ID', 'Teacher ID', 'Teacher Project Posted Sequence',\n",
       "       'Project Type', 'Project Title', 'Project Essay',\n",
       "       'Project Short Description', 'Project Need Statement',\n",
       "       'Project Subject Category Tree', 'Project Subject Subcategory Tree',\n",
       "       'Project Grade Level Category', 'Project Resource Category',\n",
       "       'Project Cost', 'Project Posted Date', 'Project Expiration Date',\n",
       "       'Project Current Status', 'Project Fully Funded Date', 'Teacher Prefix',\n",
       "       'Teacher First Project Posted Date', 'School Name', 'School Metro Type',\n",
       "       'School Percentage Free Lunch', 'School State', 'School Zip',\n",
       "       'School City', 'School County', 'School District'],\n",
       "      dtype='object')"
      ]
     },
     "execution_count": 5,
     "metadata": {},
     "output_type": "execute_result"
    }
   ],
   "source": [
    "set(df.columns)\n",
    "df.columns"
   ]
  },
  {
   "cell_type": "code",
   "execution_count": 7,
   "metadata": {},
   "outputs": [],
   "source": [
    "n_rows = 10000\n",
    "df_sample = df.sample(n = n_rows, random_state = 123, axis = 0)"
   ]
  },
  {
   "cell_type": "code",
   "execution_count": 8,
   "metadata": {},
   "outputs": [],
   "source": [
    "not_useful = ['Project ID', 'Donation ID','Donor ID',\n",
    "          'Donor Cart Sequence','Resource Vendor Name','Resource Item Name', \n",
    "              'Teacher Project Posted Sequence','School ID', 'Teacher ID',\n",
    "          'Project Title', 'Project Essay','Project Short Description',\n",
    "          'Project Need Statement','School Name', 'Donor Zip', 'School Zip']\n",
    "\n",
    "date_feat = ['Donation Received Date','Project Posted Date', 'Project Expiration Date',\n",
    "        'Project Fully Funded Date','Teacher First Project Posted Date']\n",
    "\n",
    "donor_feat = ['Donation ID', 'Donor ID',\n",
    "       'Donation Included Optional Donation', 'Donation Amount',\n",
    "       'Donor Cart Sequence', 'Donation Received Date', \n",
    "       'Donor City', 'Donor State', 'Donor Is Teacher', 'Donor Zip']\n",
    "\n",
    "project_feat = ['Resource Item Name',\n",
    "       'Resource Quantity', 'Resource Unit Price', 'Resource Vendor Name',\n",
    "       'Project Type', 'Project Title', 'Project Essay',\n",
    "       'Project Short Description', 'Project Need Statement',\n",
    "       'Project Subject Category Tree', 'Project Subject Subcategory Tree',\n",
    "       'Project Grade Level Category', 'Project Resource Category',\n",
    "       'Project Cost', 'Project Posted Date', 'Project Expiration Date',\n",
    "       'Project Current Status', 'Project Fully Funded Date', 'Teacher Prefix',\n",
    "       'Teacher First Project Posted Date', 'School Name', 'School Metro Type',\n",
    "       'School Percentage Free Lunch', 'School State', 'School Zip',\n",
    "       'School City', 'School County', 'School District']\n",
    "\n",
    "cat_feat = ['Donor City', 'Donor State', 'Donor Is Teacher', 'Donor Zip',\n",
    "            'Project Type','Project Subject Category Tree', 'Donation Included Optional Donation',\n",
    "            'Project Subject Subcategory Tree',\n",
    "            'Project Grade Level Category', 'Project Resource Category',\n",
    "            'Project Current Status','Teacher Prefix','School Metro Type',\n",
    "            'School State', 'School Zip','School City','School County', 'School District']"
   ]
  },
  {
   "cell_type": "code",
   "execution_count": 9,
   "metadata": {},
   "outputs": [],
   "source": [
    "df_sample = df_sample.drop(labels=not_useful,axis = 1)"
   ]
  },
  {
   "cell_type": "code",
   "execution_count": 10,
   "metadata": {},
   "outputs": [],
   "source": [
    "cat_feat_new = []\n",
    "for x in df_sample.columns.tolist(): \n",
    "    if x in cat_feat:\n",
    "        cat_feat_new.append(x)"
   ]
  },
  {
   "cell_type": "code",
   "execution_count": 11,
   "metadata": {},
   "outputs": [],
   "source": [
    "df_sample.dropna(axis=0, inplace=True)"
   ]
  },
  {
   "cell_type": "code",
   "execution_count": 12,
   "metadata": {},
   "outputs": [],
   "source": [
    "checker1 = df_sample[df_sample['School State']=='Alaska'].index.tolist()\n",
    "checker2 = df_sample[df_sample['School Metro Type']=='town'].index.tolist()"
   ]
  },
  {
   "cell_type": "code",
   "execution_count": 13,
   "metadata": {},
   "outputs": [],
   "source": [
    "from sklearn.preprocessing import LabelEncoder\n",
    "\n",
    "labels = {}\n",
    "for cat_feat_new in cat_feat_new:\n",
    "    le = LabelEncoder()\n",
    "    le.fit(df_sample[cat_feat_new].value_counts().index.values)\n",
    "    \n",
    "    if df_sample[cat_feat_new].dtype == 'float64' or\\\n",
    "    df_sample[cat_feat_new].dtype == 'int':\n",
    "        df_sample[cat_feat_new] = le.transform(df_sample[cat_feat_new])\n",
    "    \n",
    "    else:\n",
    "        df_sample[cat_feat_new] = le.transform(df_sample[cat_feat_new].astype(str))\n",
    "    \n",
    "    labels[cat_feat_new] = list(le.classes_)"
   ]
  },
  {
   "cell_type": "code",
   "execution_count": 14,
   "metadata": {},
   "outputs": [],
   "source": [
    "df_sample['Project Posted Date'] = pd.to_datetime(\n",
    "    df_sample['Project Posted Date'], errors='coerce')\n",
    "\n",
    "df_sample['Project Expiration Date'] = pd.to_datetime(\n",
    "    df_sample['Project Expiration Date'], errors='coerce')\n",
    "\n",
    "df_sample['Project Fully Funded Date'] = pd.to_datetime(\n",
    "    df_sample['Project Fully Funded Date'], errors='coerce')\n",
    "\n",
    "df_sample['Donation Received Date'] = pd.to_datetime(\n",
    "    df_sample['Donation Received Date'], errors='coerce')\n",
    "\n",
    "df_sample['Teacher First Project Posted Date'] = pd.to_datetime(\n",
    "    df_sample['Teacher First Project Posted Date'], errors='coerce')\n",
    "\n",
    "df_sample['delta-days-before-expiry'] = (df_sample['Project Expiration Date'] - df_sample['Project Posted Date']).dt.days\n",
    "df_sample['delta-days-before-funded'] = (df_sample['Project Fully Funded Date'] - df_sample['Project Posted Date']).dt.days\n",
    "df_sample['delta-days-before-donating'] = (df_sample['Donation Received Date'] - df_sample['Project Posted Date']).dt.days"
   ]
  },
  {
   "cell_type": "code",
   "execution_count": 15,
   "metadata": {},
   "outputs": [],
   "source": [
    "X = df_sample[['Resource Quantity', 'Resource Unit Price','Project Type',\n",
    "       'Project Subject Category Tree', 'Project Subject Subcategory Tree',\n",
    "       'Project Grade Level Category', 'Project Resource Category',\n",
    "       'Project Cost', 'Project Current Status', 'Teacher Prefix',\n",
    "       'School Metro Type','School Percentage Free Lunch', 'School State', 'School City',\n",
    "       'School County', 'School District']]"
   ]
  },
  {
   "cell_type": "code",
   "execution_count": 17,
   "metadata": {},
   "outputs": [],
   "source": [
    "from sklearn.cluster import KMeans"
   ]
  },
  {
   "cell_type": "code",
   "execution_count": 18,
   "metadata": {},
   "outputs": [
    {
     "ename": "NameError",
     "evalue": "name 'plt' is not defined",
     "output_type": "error",
     "traceback": [
      "\u001b[1;31m---------------------------------------------------------------------------\u001b[0m",
      "\u001b[1;31mNameError\u001b[0m                                 Traceback (most recent call last)",
      "\u001b[1;32m<ipython-input-18-8c24a1e463db>\u001b[0m in \u001b[0;36m<module>\u001b[1;34m()\u001b[0m\n\u001b[0;32m      1\u001b[0m \u001b[0mn_clusters\u001b[0m \u001b[1;33m=\u001b[0m \u001b[1;36m4\u001b[0m\u001b[1;33m\u001b[0m\u001b[0m\n\u001b[0;32m      2\u001b[0m \u001b[0mkmeans\u001b[0m \u001b[1;33m=\u001b[0m \u001b[0mKMeans\u001b[0m\u001b[1;33m(\u001b[0m\u001b[0mn_clusters\u001b[0m \u001b[1;33m=\u001b[0m \u001b[0mn_clusters\u001b[0m\u001b[1;33m)\u001b[0m\u001b[1;33m.\u001b[0m\u001b[0mfit\u001b[0m\u001b[1;33m(\u001b[0m\u001b[0mX\u001b[0m\u001b[1;33m)\u001b[0m\u001b[1;33m\u001b[0m\u001b[0m\n\u001b[1;32m----> 3\u001b[1;33m \u001b[0mplt\u001b[0m\u001b[1;33m.\u001b[0m\u001b[0mfigure\u001b[0m\u001b[1;33m(\u001b[0m\u001b[0mfigsize\u001b[0m\u001b[1;33m=\u001b[0m\u001b[1;33m(\u001b[0m\u001b[1;36m10\u001b[0m\u001b[1;33m,\u001b[0m\u001b[1;36m6\u001b[0m\u001b[1;33m)\u001b[0m\u001b[1;33m)\u001b[0m\u001b[1;33m\u001b[0m\u001b[0m\n\u001b[0m\u001b[0;32m      4\u001b[0m \u001b[1;32mfor\u001b[0m \u001b[0mi\u001b[0m \u001b[1;32min\u001b[0m \u001b[0mrange\u001b[0m\u001b[1;33m(\u001b[0m\u001b[0mlen\u001b[0m\u001b[1;33m(\u001b[0m\u001b[0mkmeans\u001b[0m\u001b[1;33m.\u001b[0m\u001b[0mcluster_centers_\u001b[0m\u001b[1;33m)\u001b[0m\u001b[1;33m)\u001b[0m\u001b[1;33m:\u001b[0m\u001b[1;33m\u001b[0m\u001b[0m\n\u001b[0;32m      5\u001b[0m     \u001b[0mplt\u001b[0m\u001b[1;33m.\u001b[0m\u001b[0mplot\u001b[0m\u001b[1;33m(\u001b[0m\u001b[0mkmeans\u001b[0m\u001b[1;33m.\u001b[0m\u001b[0mcluster_centers_\u001b[0m\u001b[1;33m[\u001b[0m\u001b[0mi\u001b[0m\u001b[1;33m]\u001b[0m\u001b[1;33m[\u001b[0m\u001b[1;36m0\u001b[0m\u001b[1;33m]\u001b[0m\u001b[1;33m,\u001b[0m\u001b[0mkmeans\u001b[0m\u001b[1;33m.\u001b[0m\u001b[0mcluster_centers_\u001b[0m\u001b[1;33m[\u001b[0m\u001b[0mi\u001b[0m\u001b[1;33m]\u001b[0m\u001b[1;33m[\u001b[0m\u001b[1;36m1\u001b[0m\u001b[1;33m]\u001b[0m\u001b[1;33m,\u001b[0m\u001b[1;34m'x'\u001b[0m\u001b[1;33m,\u001b[0m \u001b[0mmarkersize\u001b[0m\u001b[1;33m=\u001b[0m\u001b[1;36m12\u001b[0m\u001b[1;33m,\u001b[0m \u001b[0mlabel\u001b[0m\u001b[1;33m=\u001b[0m\u001b[0mi\u001b[0m\u001b[1;33m)\u001b[0m\u001b[1;33m;\u001b[0m\u001b[1;33m\u001b[0m\u001b[0m\n",
      "\u001b[1;31mNameError\u001b[0m: name 'plt' is not defined"
     ]
    }
   ],
   "source": [
    "n_clusters = 4\n",
    "kmeans = KMeans(n_clusters = n_clusters).fit(X)\n",
    "plt.figure(figsize=(10,6))\n",
    "for i in range(len(kmeans.cluster_centers_)):\n",
    "    plt.plot(kmeans.cluster_centers_[i][0],kmeans.cluster_centers_[i][1],'x', markersize=12, label=i);\n",
    "    plt.xticks([], [])\n",
    "    plt.yticks([], [])\n",
    "    plt.legend(loc=4)\n",
    "plt.title('KMeans Clustering (n_clusters = 4)');"
   ]
  },
  {
   "cell_type": "code",
   "execution_count": null,
   "metadata": {},
   "outputs": [],
   "source": []
  }
 ],
 "metadata": {
  "kernelspec": {
   "display_name": "Python 3",
   "language": "python",
   "name": "python3"
  },
  "language_info": {
   "codemirror_mode": {
    "name": "ipython",
    "version": 3
   },
   "file_extension": ".py",
   "mimetype": "text/x-python",
   "name": "python",
   "nbconvert_exporter": "python",
   "pygments_lexer": "ipython3",
   "version": "3.6.4"
  }
 },
 "nbformat": 4,
 "nbformat_minor": 2
}
